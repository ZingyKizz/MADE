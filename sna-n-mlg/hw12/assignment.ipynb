{
 "cells": [
  {
   "cell_type": "markdown",
   "metadata": {},
   "source": [
    "# Assignment — Knowledge Graph Embedding"
   ]
  },
  {
   "cell_type": "markdown",
   "metadata": {},
   "source": [
    "In this assignment we will see how to use the [TorchKGE](https://github.com/torchkge-team/torchkge) library for building knowledge graphs and its embeddings."
   ]
  },
  {
   "cell_type": "code",
   "execution_count": 1,
   "metadata": {},
   "outputs": [],
   "source": [
    "import numpy as np\n",
    "import pandas as pd\n",
    "pd.options.display.max_colwidth = 100\n",
    "from zlib import adler32\n",
    "import requests"
   ]
  },
  {
   "cell_type": "markdown",
   "metadata": {},
   "source": [
    "### Task 1. Dataset exploration (1 points)"
   ]
  },
  {
   "cell_type": "markdown",
   "metadata": {},
   "source": [
    "To begin with we are going to need a knowledge graph, so let us load a standard knowledge graph dataset called _Freebase-15k-237_."
   ]
  },
  {
   "cell_type": "code",
   "execution_count": 2,
   "metadata": {},
   "outputs": [],
   "source": [
    "df = pd.read_csv(\n",
    "    \"https://raw.githubusercontent.com/netspractice/ml-on-graphs/main/datasets/freebase-237-merged-and-remapped.csv\", \n",
    "    names=['h', 'r', 't'])"
   ]
  },
  {
   "cell_type": "code",
   "execution_count": 3,
   "metadata": {},
   "outputs": [
    {
     "data": {
      "text/html": [
       "<div>\n",
       "<style scoped>\n",
       "    .dataframe tbody tr th:only-of-type {\n",
       "        vertical-align: middle;\n",
       "    }\n",
       "\n",
       "    .dataframe tbody tr th {\n",
       "        vertical-align: top;\n",
       "    }\n",
       "\n",
       "    .dataframe thead th {\n",
       "        text-align: right;\n",
       "    }\n",
       "</style>\n",
       "<table border=\"1\" class=\"dataframe\">\n",
       "  <thead>\n",
       "    <tr style=\"text-align: right;\">\n",
       "      <th></th>\n",
       "      <th>h</th>\n",
       "      <th>r</th>\n",
       "      <th>t</th>\n",
       "    </tr>\n",
       "  </thead>\n",
       "  <tbody>\n",
       "    <tr>\n",
       "      <th>0</th>\n",
       "      <td>queens college, city university of new york</td>\n",
       "      <td>/education/educational_institution/students_graduates./education/education/student</td>\n",
       "      <td>carol leifer</td>\n",
       "    </tr>\n",
       "    <tr>\n",
       "      <th>1103</th>\n",
       "      <td>sharon stone</td>\n",
       "      <td>/award/award_nominee/award_nominations./award/award_nomination/award_nominee</td>\n",
       "      <td>jacob vargas</td>\n",
       "    </tr>\n",
       "    <tr>\n",
       "      <th>2210</th>\n",
       "      <td>japan</td>\n",
       "      <td>/location/country/capital</td>\n",
       "      <td>tokyo</td>\n",
       "    </tr>\n",
       "    <tr>\n",
       "      <th>3329</th>\n",
       "      <td>syphilis</td>\n",
       "      <td>/medicine/disease/risk_factors</td>\n",
       "      <td>male</td>\n",
       "    </tr>\n",
       "    <tr>\n",
       "      <th>4447</th>\n",
       "      <td>michael carlisle hall</td>\n",
       "      <td>/award/award_nominee/award_nominations./award/award_nomination/award_nominee</td>\n",
       "      <td>mena suvari</td>\n",
       "    </tr>\n",
       "    <tr>\n",
       "      <th>5555</th>\n",
       "      <td>alice in wonderland</td>\n",
       "      <td>/film/film/language</td>\n",
       "      <td>english language</td>\n",
       "    </tr>\n",
       "    <tr>\n",
       "      <th>6653</th>\n",
       "      <td>nauru</td>\n",
       "      <td>/location/country/official_language</td>\n",
       "      <td>english language</td>\n",
       "    </tr>\n",
       "    <tr>\n",
       "      <th>7743</th>\n",
       "      <td>ben harper</td>\n",
       "      <td>/people/person/spouse_s./people/marriage/type_of_union</td>\n",
       "      <td>marriage</td>\n",
       "    </tr>\n",
       "    <tr>\n",
       "      <th>8840</th>\n",
       "      <td>the perks of being a wallflower</td>\n",
       "      <td>/film/film/country</td>\n",
       "      <td>united states of america</td>\n",
       "    </tr>\n",
       "    <tr>\n",
       "      <th>9960</th>\n",
       "      <td>vice president</td>\n",
       "      <td>/business/job_title/people_with_this_title./business/employment_tenure/company</td>\n",
       "      <td>scripps howard broadcasting</td>\n",
       "    </tr>\n",
       "  </tbody>\n",
       "</table>\n",
       "</div>"
      ],
      "text/plain": [
       "                                                h  \\\n",
       "0     queens college, city university of new york   \n",
       "1103                                 sharon stone   \n",
       "2210                                        japan   \n",
       "3329                                     syphilis   \n",
       "4447                        michael carlisle hall   \n",
       "5555                          alice in wonderland   \n",
       "6653                                        nauru   \n",
       "7743                                   ben harper   \n",
       "8840              the perks of being a wallflower   \n",
       "9960                               vice president   \n",
       "\n",
       "                                                                                       r  \\\n",
       "0     /education/educational_institution/students_graduates./education/education/student   \n",
       "1103        /award/award_nominee/award_nominations./award/award_nomination/award_nominee   \n",
       "2210                                                           /location/country/capital   \n",
       "3329                                                      /medicine/disease/risk_factors   \n",
       "4447        /award/award_nominee/award_nominations./award/award_nomination/award_nominee   \n",
       "5555                                                                 /film/film/language   \n",
       "6653                                                 /location/country/official_language   \n",
       "7743                              /people/person/spouse_s./people/marriage/type_of_union   \n",
       "8840                                                                  /film/film/country   \n",
       "9960      /business/job_title/people_with_this_title./business/employment_tenure/company   \n",
       "\n",
       "                                t  \n",
       "0                    carol leifer  \n",
       "1103                 jacob vargas  \n",
       "2210                        tokyo  \n",
       "3329                         male  \n",
       "4447                  mena suvari  \n",
       "5555             english language  \n",
       "6653             english language  \n",
       "7743                     marriage  \n",
       "8840     united states of america  \n",
       "9960  scripps howard broadcasting  "
      ]
     },
     "execution_count": 3,
     "metadata": {},
     "output_type": "execute_result"
    }
   ],
   "source": [
    "df = df[~df.h.str.startswith('/') & ~df.t.str.startswith('/')]\n",
    "df[::1000].head(10)"
   ]
  },
  {
   "cell_type": "markdown",
   "metadata": {},
   "source": [
    "There is h — head (also subject), r — relation (also predicat, label), t — tail (also object). The shape of the dataset is"
   ]
  },
  {
   "cell_type": "code",
   "execution_count": 4,
   "metadata": {},
   "outputs": [
    {
     "data": {
      "text/plain": [
       "(282560, 3)"
      ]
     },
     "execution_count": 4,
     "metadata": {},
     "output_type": "execute_result"
    }
   ],
   "source": [
    "df.shape"
   ]
  },
  {
   "cell_type": "markdown",
   "metadata": {},
   "source": [
    "Let us check the number of unique entities and unique relations.\n",
    "\n",
    "Write a funtion `n_ent_rel` that takes a dataset and returns a number of unique entities and unique relations.\n"
   ]
  },
  {
   "cell_type": "code",
   "execution_count": 5,
   "metadata": {
    "deletable": false,
    "nbgrader": {
     "cell_type": "code",
     "checksum": "e835a990ce88589b1e4baa4e213e5aed",
     "grade": false,
     "grade_id": "cell-a1c37b647b2bd8d4",
     "locked": false,
     "schema_version": 3,
     "solution": true,
     "task": false
    }
   },
   "outputs": [],
   "source": [
    "def n_ent_rel(df):\n",
    "    ent = set(df[\"h\"]) | set(df[\"t\"])\n",
    "    rel = set(df[\"r\"])\n",
    "    return len(ent), len(rel)"
   ]
  },
  {
   "cell_type": "code",
   "execution_count": 6,
   "metadata": {
    "deletable": false,
    "editable": false,
    "nbgrader": {
     "cell_type": "code",
     "checksum": "33c35eef24a5f6a8488d57049487dd88",
     "grade": true,
     "grade_id": "cell-e297130eb1b840de",
     "locked": true,
     "points": 0.25,
     "schema_version": 3,
     "solution": false,
     "task": false
    }
   },
   "outputs": [
    {
     "data": {
      "text/plain": [
       "(13506, 228)"
      ]
     },
     "execution_count": 6,
     "metadata": {},
     "output_type": "execute_result"
    }
   ],
   "source": [
    "n_ent, n_rel = n_ent_rel(df)\n",
    "assert adler32(str(n_ent + n_ent).encode()) == 50266365\n",
    "n_ent, n_rel"
   ]
  },
  {
   "cell_type": "markdown",
   "metadata": {},
   "source": [
    "We can look at all facts about any entity via pandas API"
   ]
  },
  {
   "cell_type": "code",
   "execution_count": 7,
   "metadata": {},
   "outputs": [
    {
     "data": {
      "text/html": [
       "<div>\n",
       "<style scoped>\n",
       "    .dataframe tbody tr th:only-of-type {\n",
       "        vertical-align: middle;\n",
       "    }\n",
       "\n",
       "    .dataframe tbody tr th {\n",
       "        vertical-align: top;\n",
       "    }\n",
       "\n",
       "    .dataframe thead th {\n",
       "        text-align: right;\n",
       "    }\n",
       "</style>\n",
       "<table border=\"1\" class=\"dataframe\">\n",
       "  <thead>\n",
       "    <tr style=\"text-align: right;\">\n",
       "      <th></th>\n",
       "      <th>h</th>\n",
       "      <th>r</th>\n",
       "      <th>t</th>\n",
       "    </tr>\n",
       "  </thead>\n",
       "  <tbody>\n",
       "    <tr>\n",
       "      <th>4107</th>\n",
       "      <td>aleksandr pushkin</td>\n",
       "      <td>/people/person/profession</td>\n",
       "      <td>poet</td>\n",
       "    </tr>\n",
       "    <tr>\n",
       "      <th>14992</th>\n",
       "      <td>aleksandr pushkin</td>\n",
       "      <td>/influence/influence_node/influenced_by</td>\n",
       "      <td>johann wolfgang von goethe</td>\n",
       "    </tr>\n",
       "    <tr>\n",
       "      <th>19525</th>\n",
       "      <td>aleksandr pushkin</td>\n",
       "      <td>/people/person/nationality</td>\n",
       "      <td>russian empire</td>\n",
       "    </tr>\n",
       "    <tr>\n",
       "      <th>40237</th>\n",
       "      <td>aleksandr pushkin</td>\n",
       "      <td>/people/person/place_of_birth</td>\n",
       "      <td>moscow</td>\n",
       "    </tr>\n",
       "    <tr>\n",
       "      <th>47411</th>\n",
       "      <td>aleksandr pushkin</td>\n",
       "      <td>/influence/influence_node/influenced_by</td>\n",
       "      <td>william shakespeare</td>\n",
       "    </tr>\n",
       "  </tbody>\n",
       "</table>\n",
       "</div>"
      ],
      "text/plain": [
       "                       h                                        r  \\\n",
       "4107   aleksandr pushkin                /people/person/profession   \n",
       "14992  aleksandr pushkin  /influence/influence_node/influenced_by   \n",
       "19525  aleksandr pushkin               /people/person/nationality   \n",
       "40237  aleksandr pushkin            /people/person/place_of_birth   \n",
       "47411  aleksandr pushkin  /influence/influence_node/influenced_by   \n",
       "\n",
       "                                t  \n",
       "4107                         poet  \n",
       "14992  johann wolfgang von goethe  \n",
       "19525              russian empire  \n",
       "40237                      moscow  \n",
       "47411         william shakespeare  "
      ]
     },
     "execution_count": 7,
     "metadata": {},
     "output_type": "execute_result"
    }
   ],
   "source": [
    "df[df.h ==  'aleksandr pushkin'].head()"
   ]
  },
  {
   "cell_type": "code",
   "execution_count": 8,
   "metadata": {},
   "outputs": [
    {
     "data": {
      "text/html": [
       "<div>\n",
       "<style scoped>\n",
       "    .dataframe tbody tr th:only-of-type {\n",
       "        vertical-align: middle;\n",
       "    }\n",
       "\n",
       "    .dataframe tbody tr th {\n",
       "        vertical-align: top;\n",
       "    }\n",
       "\n",
       "    .dataframe thead th {\n",
       "        text-align: right;\n",
       "    }\n",
       "</style>\n",
       "<table border=\"1\" class=\"dataframe\">\n",
       "  <thead>\n",
       "    <tr style=\"text-align: right;\">\n",
       "      <th></th>\n",
       "      <th>h</th>\n",
       "      <th>r</th>\n",
       "      <th>t</th>\n",
       "    </tr>\n",
       "  </thead>\n",
       "  <tbody>\n",
       "    <tr>\n",
       "      <th>145219</th>\n",
       "      <td>aleksandr pushkin</td>\n",
       "      <td>/influence/influence_node/peers./influence/peer_relationship/peers</td>\n",
       "      <td>nikolai gogol</td>\n",
       "    </tr>\n",
       "  </tbody>\n",
       "</table>\n",
       "</div>"
      ],
      "text/plain": [
       "                        h  \\\n",
       "145219  aleksandr pushkin   \n",
       "\n",
       "                                                                         r  \\\n",
       "145219  /influence/influence_node/peers./influence/peer_relationship/peers   \n",
       "\n",
       "                    t  \n",
       "145219  nikolai gogol  "
      ]
     },
     "execution_count": 8,
     "metadata": {},
     "output_type": "execute_result"
    }
   ],
   "source": [
    "df[(df.h ==  'aleksandr pushkin') & (df.t == 'nikolai gogol')]"
   ]
  },
  {
   "cell_type": "code",
   "execution_count": 9,
   "metadata": {},
   "outputs": [
    {
     "data": {
      "text/html": [
       "<div>\n",
       "<style scoped>\n",
       "    .dataframe tbody tr th:only-of-type {\n",
       "        vertical-align: middle;\n",
       "    }\n",
       "\n",
       "    .dataframe tbody tr th {\n",
       "        vertical-align: top;\n",
       "    }\n",
       "\n",
       "    .dataframe thead th {\n",
       "        text-align: right;\n",
       "    }\n",
       "</style>\n",
       "<table border=\"1\" class=\"dataframe\">\n",
       "  <thead>\n",
       "    <tr style=\"text-align: right;\">\n",
       "      <th></th>\n",
       "      <th>h</th>\n",
       "      <th>r</th>\n",
       "      <th>t</th>\n",
       "    </tr>\n",
       "  </thead>\n",
       "  <tbody>\n",
       "    <tr>\n",
       "      <th>86362</th>\n",
       "      <td>nikolai gogol</td>\n",
       "      <td>/influence/influence_node/peers./influence/peer_relationship/peers</td>\n",
       "      <td>aleksandr pushkin</td>\n",
       "    </tr>\n",
       "    <tr>\n",
       "      <th>269512</th>\n",
       "      <td>nikolai gogol</td>\n",
       "      <td>/influence/influence_node/influenced_by</td>\n",
       "      <td>aleksandr pushkin</td>\n",
       "    </tr>\n",
       "  </tbody>\n",
       "</table>\n",
       "</div>"
      ],
      "text/plain": [
       "                    h  \\\n",
       "86362   nikolai gogol   \n",
       "269512  nikolai gogol   \n",
       "\n",
       "                                                                         r  \\\n",
       "86362   /influence/influence_node/peers./influence/peer_relationship/peers   \n",
       "269512                             /influence/influence_node/influenced_by   \n",
       "\n",
       "                        t  \n",
       "86362   aleksandr pushkin  \n",
       "269512  aleksandr pushkin  "
      ]
     },
     "execution_count": 9,
     "metadata": {},
     "output_type": "execute_result"
    }
   ],
   "source": [
    "df[(df.h ==  'nikolai gogol') & (df.t == 'aleksandr pushkin')]"
   ]
  },
  {
   "cell_type": "markdown",
   "metadata": {},
   "source": [
    "Let us try to find some facts in this dataset. For example, what is Harrison Ford's nationality? (\"harrison ford\" in the dataset)\n",
    "\n",
    "Write a function `harrison_ford_nationality` that takes a dataset and returns the nationality.\n",
    "\n",
    "_Hint: use `pandas.Series.str.contains` method_"
   ]
  },
  {
   "cell_type": "code",
   "execution_count": 10,
   "metadata": {
    "deletable": false,
    "nbgrader": {
     "cell_type": "code",
     "checksum": "4f23d23c2036f17a865ee09c5de46253",
     "grade": false,
     "grade_id": "cell-bf2eb40c10e9971d",
     "locked": false,
     "schema_version": 3,
     "solution": true,
     "task": false
    }
   },
   "outputs": [],
   "source": [
    "def harrison_ford_nationality(df):\n",
    "    return df.loc[(df[\"h\"] == \"harrison ford\") & df[\"r\"].str.contains(\"nationality\"), \"t\"].values[0]"
   ]
  },
  {
   "cell_type": "code",
   "execution_count": 11,
   "metadata": {
    "deletable": false,
    "editable": false,
    "nbgrader": {
     "cell_type": "code",
     "checksum": "23d0c5ad6271894515cdbdf4bfb84fa0",
     "grade": true,
     "grade_id": "cell-e20681a97039cdf6",
     "locked": true,
     "points": 0.25,
     "schema_version": 3,
     "solution": false,
     "task": false
    }
   },
   "outputs": [
    {
     "data": {
      "text/plain": [
       "'united states of america'"
      ]
     },
     "execution_count": 11,
     "metadata": {},
     "output_type": "execute_result"
    }
   ],
   "source": [
    "assert adler32(harrison_ford_nationality(df).encode()) == 1948191013\n",
    "harrison_ford_nationality(df)"
   ]
  },
  {
   "cell_type": "markdown",
   "metadata": {},
   "source": [
    "More tricky question: who are film directors of movies where Harrison Ford was?\n",
    "\n",
    "Write a function `made_films_with_harrison_ford` that returns a set of directors' names."
   ]
  },
  {
   "cell_type": "code",
   "execution_count": 12,
   "metadata": {
    "deletable": false,
    "nbgrader": {
     "cell_type": "code",
     "checksum": "ac4a71f632063e89560fc4127de263b1",
     "grade": false,
     "grade_id": "cell-7ea1e48135c759d5",
     "locked": false,
     "schema_version": 3,
     "solution": true,
     "task": false
    }
   },
   "outputs": [],
   "source": [
    "def made_films_with_harrison_ford(df):\n",
    "    films = set(df.loc[(df[\"h\"] == \"harrison ford\") & df[\"r\"].str.contains(\"film\"), \"t\"])\n",
    "    directors = set(df.loc[(df[\"t\"].isin(films)) & df[\"r\"].str.contains(\"dir\"), \"h\"])\n",
    "    return directors"
   ]
  },
  {
   "cell_type": "code",
   "execution_count": 13,
   "metadata": {
    "deletable": false,
    "editable": false,
    "nbgrader": {
     "cell_type": "code",
     "checksum": "0bb8cda4354aba8ed178a1061828a22c",
     "grade": true,
     "grade_id": "cell-f3dbc03094dcbb5b",
     "locked": true,
     "points": 0.5,
     "schema_version": 3,
     "solution": false,
     "task": false
    }
   },
   "outputs": [
    {
     "data": {
      "text/plain": [
       "{'francis ford coppola',\n",
       " 'george lucas',\n",
       " 'jon favreau filmography',\n",
       " 'kathryn bigelow',\n",
       " 'mike nichols',\n",
       " 'ridley scott',\n",
       " 'robert zemeckis',\n",
       " 'steven spielberg'}"
      ]
     },
     "execution_count": 13,
     "metadata": {},
     "output_type": "execute_result"
    }
   ],
   "source": [
    "directors = made_films_with_harrison_ford(df)\n",
    "assert adler32(str(sorted(directors)).encode()) == 3798415057\n",
    "directors"
   ]
  },
  {
   "cell_type": "markdown",
   "metadata": {},
   "source": [
    "### Task 2. TransE embedding model (2 points)"
   ]
  },
  {
   "cell_type": "markdown",
   "metadata": {},
   "source": [
    "TransE (translations in the embedding space) is a method which models relationships by interpreting them as translations operating on the low-dimensional embeddings of the entities.\n",
    "\n",
    "Let us implement the model using TorchKGE — a Python module for knowledge graph embedding relying solely on Pytorch."
   ]
  },
  {
   "cell_type": "code",
   "execution_count": 14,
   "metadata": {},
   "outputs": [
    {
     "name": "stdout",
     "output_type": "stream",
     "text": [
      "Requirement already satisfied: torchkge==0.16.25 in d:\\software\\python\\lib\\site-packages (0.16.25)\n",
      "Requirement already satisfied: torch>=1.2.0 in d:\\software\\python\\lib\\site-packages (from torchkge==0.16.25) (1.8.1+cu111)\n",
      "Requirement already satisfied: pandas in d:\\software\\python\\lib\\site-packages (from torchkge==0.16.25) (1.1.3)\n",
      "Requirement already satisfied: tqdm in d:\\software\\python\\lib\\site-packages (from torchkge==0.16.25) (4.50.2)\n",
      "Requirement already satisfied: typing-extensions in d:\\software\\python\\lib\\site-packages (from torch>=1.2.0->torchkge==0.16.25) (3.7.4.3)\n",
      "Requirement already satisfied: numpy in d:\\software\\python\\lib\\site-packages (from torch>=1.2.0->torchkge==0.16.25) (1.19.3+mkl)\n",
      "Requirement already satisfied: python-dateutil>=2.7.3 in d:\\software\\python\\lib\\site-packages (from pandas->torchkge==0.16.25) (2.8.1)\n",
      "Requirement already satisfied: pytz>=2017.2 in d:\\software\\python\\lib\\site-packages (from pandas->torchkge==0.16.25) (2020.1)\n",
      "Requirement already satisfied: six>=1.5 in d:\\software\\python\\lib\\site-packages (from python-dateutil>=2.7.3->pandas->torchkge==0.16.25) (1.15.0)\n"
     ]
    }
   ],
   "source": [
    "!pip install torchkge==0.16.25"
   ]
  },
  {
   "cell_type": "code",
   "execution_count": 15,
   "metadata": {},
   "outputs": [],
   "source": [
    "import torch\n",
    "from torch import nn\n",
    "import torch.nn.functional as F\n",
    "from torchkge import KnowledgeGraph\n",
    "from torchkge.utils import Trainer\n",
    "from torchkge.evaluation import LinkPredictionEvaluator\n",
    "from torchkge.models.interfaces import TranslationModel\n",
    "from torch.nn.init import xavier_uniform_"
   ]
  },
  {
   "cell_type": "markdown",
   "metadata": {},
   "source": [
    "<img src='https://github.com/netspractice/ml-on-graphs/raw/main/assignment_knowledge_graph_embedding/kge.png' width=300>"
   ]
  },
  {
   "cell_type": "markdown",
   "metadata": {},
   "source": [
    "The basic idea behind the model is that the functional relation induced by the $r$-labeled edges corresponds to a translation of the embeddings, i.e. we want that $h + r \\approx t$ when ($h$, $r$, $t$) holds ($t$ should be a nearest neighbor of $h + r$), while $h + r$ should be far away from $t$ otherwise. Thereby, TransE scoring function is negative distance between $h+r$ and $t$\n",
    "\n",
    "$$f(h, r, t) = -||h + r - t||$$\n",
    "\n",
    "where $||\\cdot||$ is L1 or L2 norm. The goal of the optimization procedure is learning optimal embeddings, such that the scoring function is able to assign high scores to positive statements and low scores to statements unlikely to be true. The most common loss function is Margin Loss that can be represented as\n",
    "\n",
    "$$L = \\text{ReLU}\\left(\\gamma - f(h, r, t) + f(h', r, t')\\right)$$\n",
    "\n",
    "where $\\gamma > 0$ is a \"margin\" hyperparameter, the triplet $(h, r, t)$ is in a training set (positive) and the $(h', r, t')$ is in a set of *corrupted* (negative) triplets, that are composed of training triplets with either the head or tail replaced by a random entity (but not both at the same time)."
   ]
  },
  {
   "cell_type": "markdown",
   "metadata": {},
   "source": [
    "We will use TorchKGE TranslationModel as a base for TransE class, here are some auxiliary methods: \n",
    "\n",
    "* `normalize_parameters` applies `L2` normalization for training stability\n",
    "* `get_embeddings` returns the tensors representing entities and relations\n",
    "* `lp_prep_cands` gets entities and relations embeddings for link prediction training process\n",
    "* `forward` returns scores for positive triplets (`h`, `r`, `t`) and negative triplets (`nh`, `r`, `nt`)"
   ]
  },
  {
   "cell_type": "code",
   "execution_count": 16,
   "metadata": {},
   "outputs": [],
   "source": [
    "class BaseTransE(TranslationModel):\n",
    "    def __init__(self, num_entities, num_relations, dim=100):\n",
    "        super(BaseTransE, self).__init__(num_entities, num_relations, dissimilarity_type='L2')\n",
    "        self.num_entities = num_entities\n",
    "        self.num_relations = num_relations\n",
    "        self.dim = dim\n",
    "        self.ent_embeddings = nn.Embedding(num_entities, self.dim)\n",
    "        xavier_uniform_(self.ent_embeddings.weight.data)\n",
    "        self.rel_embeddings = nn.Embedding(num_relations, self.dim)\n",
    "        xavier_uniform_(self.rel_embeddings.weight.data)\n",
    "        \n",
    "        self.normalize_parameters()\n",
    "        self.rel_embeddings.weight.data = F.normalize(self.rel_embeddings.weight.data, p=2, dim=1)\n",
    "\n",
    "    def normalize_parameters(self):\n",
    "        self.ent_embeddings.weight.data = F.normalize(self.ent_embeddings.weight.data, p=2, dim=1)\n",
    "\n",
    "    def get_embeddings(self):\n",
    "        self.normalize_parameters()\n",
    "        return self.ent_embeddings.weight.data, self.rel_embeddings.weight.data\n",
    "        \n",
    "    def lp_prep_cands(self, h_idx, t_idx, r_idx):\n",
    "        b_size = h_idx.shape[0]\n",
    "\n",
    "        h_emb = self.ent_embeddings(h_idx)\n",
    "        t_emb = self.ent_embeddings(t_idx)\n",
    "        r_emb = self.rel_embeddings(r_idx)\n",
    "\n",
    "        candidates = self.ent_embeddings.weight.data.view(1, self.num_entities, self.dim)\n",
    "        candidates = candidates.expand(b_size, self.num_entities, self.dim)\n",
    "\n",
    "        return h_emb, t_emb, candidates, r_emb\n",
    "    \n",
    "    def forward(self, h, t, nh, nt, r):\n",
    "        return self.scoring_function(h, t, r), self.scoring_function(nh, nt, r)"
   ]
  },
  {
   "cell_type": "markdown",
   "metadata": {},
   "source": [
    "Write a function `scoring_function` that takes a tensor `h`, `t`, `r` with triplets of the shape (number of triplets) and returns its L2 scores. For training stability, apply L2 normalization (`F.normalize`  with `p=2`) on entities embeddings before computing the scores. Note that `h`, `t`, `r` are tensors with integer IDs of entities and relations."
   ]
  },
  {
   "cell_type": "code",
   "execution_count": 17,
   "metadata": {
    "deletable": false,
    "nbgrader": {
     "cell_type": "code",
     "checksum": "b28acb89a574281b6b491dc2a892fa97",
     "grade": false,
     "grade_id": "cell-10c450a856899a4f",
     "locked": false,
     "schema_version": 3,
     "solution": true,
     "task": false
    }
   },
   "outputs": [],
   "source": [
    "class TransE(BaseTransE):\n",
    "    def scoring_function(self, h, t, r):\n",
    "        score = F.normalize(self.ent_embeddings(h), p=2) - F.normalize(self.ent_embeddings(t), p=2) + self.rel_embeddings(r)\n",
    "        score = -torch.linalg.norm(score, axis=1)\n",
    "        return score"
   ]
  },
  {
   "cell_type": "code",
   "execution_count": 18,
   "metadata": {
    "deletable": false,
    "editable": false,
    "nbgrader": {
     "cell_type": "code",
     "checksum": "66b8a2c5364c811beed9f0983df16307",
     "grade": true,
     "grade_id": "cell-89f5ccbf84380079",
     "locked": true,
     "points": 0,
     "schema_version": 3,
     "solution": false,
     "task": false
    }
   },
   "outputs": [],
   "source": [
    "torch.manual_seed(0)\n",
    "model = TransE(num_entities=5, num_relations=2, dim=2)\n",
    "model.ent_embeddings.weight.data = torch.randn(5, 2)\n",
    "model.rel_embeddings.weight.data = torch.randn(2, 2)\n",
    "\n",
    "h = torch.LongTensor([1, 1, 1])\n",
    "r = torch.LongTensor([0, 1, 1])\n",
    "t = torch.LongTensor([2, 2, 3])\n",
    "\n",
    "with torch.no_grad():\n",
    "    scores = model.scoring_function(h, t, r).numpy()\n",
    "assert scores.shape == (3, ) # 3 triplets\n",
    "assert adler32(str(scores.round(2)).encode()) == 628491186"
   ]
  },
  {
   "cell_type": "markdown",
   "metadata": {},
   "source": [
    "Complete the class `MarginLoss` so that computes the losses among scores and returns an average loss. Positive and negative scores are tensors of the shape (number of triplets)."
   ]
  },
  {
   "cell_type": "code",
   "execution_count": 19,
   "metadata": {
    "deletable": false,
    "nbgrader": {
     "cell_type": "code",
     "checksum": "e152703e15d1c0adb58fa5f20649adcc",
     "grade": false,
     "grade_id": "cell-3fb7cb717cb420cb",
     "locked": false,
     "schema_version": 3,
     "solution": true,
     "task": false
    }
   },
   "outputs": [],
   "source": [
    "class MarginLoss(nn.Module):\n",
    "    def __init__(self, margin):\n",
    "        super().__init__()\n",
    "        self.margin = margin\n",
    "    def forward(self, positive_scores, negative_scores):\n",
    "        return F.relu(torch.full_like(positive_scores, self.margin) - positive_scores + negative_scores).mean()"
   ]
  },
  {
   "cell_type": "code",
   "execution_count": 20,
   "metadata": {
    "deletable": false,
    "editable": false,
    "nbgrader": {
     "cell_type": "code",
     "checksum": "ddad8c020d3e0fe7112475c8f7a059fd",
     "grade": true,
     "grade_id": "cell-b28b48d0354bf7be",
     "locked": true,
     "points": 0,
     "schema_version": 3,
     "solution": false,
     "task": false
    }
   },
   "outputs": [],
   "source": [
    "loss_fn = MarginLoss(margin=0.5)\n",
    "torch.manual_seed(0)\n",
    "positive_scores = torch.randn(8)\n",
    "negative_scores = torch.randn(8)\n",
    "loss = loss_fn(positive_scores, negative_scores)\n",
    "assert loss.shape == torch.Size([])\n",
    "assert round(loss.item(), 2) == 0.79"
   ]
  },
  {
   "cell_type": "markdown",
   "metadata": {},
   "source": [
    "Let us look at the WikiDataSet that presents country-specific subgraphs of Wikidata."
   ]
  },
  {
   "cell_type": "code",
   "execution_count": 21,
   "metadata": {},
   "outputs": [],
   "source": [
    "url = 'https://raw.githubusercontent.com/netspractice/ml-on-graphs/main/datasets/countries_edges.tsv'\n",
    "open('countries_edges.tsv', 'wb').write(requests.get(url).content)\n",
    "url = 'https://raw.githubusercontent.com/netspractice/ml-on-graphs/main/datasets/countries_entities.tsv'\n",
    "open('countries_entities.tsv', 'wb').write(requests.get(url).content)\n",
    "url = 'https://raw.githubusercontent.com/netspractice/ml-on-graphs/main/datasets/countries_relations.tsv'\n",
    "open('countries_relations.tsv', 'wb').write(requests.get(url).content);"
   ]
  },
  {
   "cell_type": "code",
   "execution_count": 22,
   "metadata": {},
   "outputs": [],
   "source": [
    "edges = pd.read_csv('countries_edges.tsv', sep='\t').values\n",
    "entity_labels = pd.read_csv('countries_entities.tsv', sep='\t', index_col=0).label.values\n",
    "relation_labels = pd.read_csv('countries_relations.tsv', sep='\t', index_col=0).label.values"
   ]
  },
  {
   "cell_type": "code",
   "execution_count": 23,
   "metadata": {},
   "outputs": [
    {
     "data": {
      "text/html": [
       "<div>\n",
       "<style scoped>\n",
       "    .dataframe tbody tr th:only-of-type {\n",
       "        vertical-align: middle;\n",
       "    }\n",
       "\n",
       "    .dataframe tbody tr th {\n",
       "        vertical-align: top;\n",
       "    }\n",
       "\n",
       "    .dataframe thead th {\n",
       "        text-align: right;\n",
       "    }\n",
       "</style>\n",
       "<table border=\"1\" class=\"dataframe\">\n",
       "  <thead>\n",
       "    <tr style=\"text-align: right;\">\n",
       "      <th></th>\n",
       "      <th>h</th>\n",
       "      <th>r</th>\n",
       "      <th>t</th>\n",
       "    </tr>\n",
       "  </thead>\n",
       "  <tbody>\n",
       "    <tr>\n",
       "      <th>0</th>\n",
       "      <td>Belgium</td>\n",
       "      <td>country</td>\n",
       "      <td>Belgium</td>\n",
       "    </tr>\n",
       "    <tr>\n",
       "      <th>1</th>\n",
       "      <td>Belgium</td>\n",
       "      <td>diplomatic relation</td>\n",
       "      <td>Luxembourg</td>\n",
       "    </tr>\n",
       "    <tr>\n",
       "      <th>2</th>\n",
       "      <td>Belgium</td>\n",
       "      <td>diplomatic relation</td>\n",
       "      <td>Italy</td>\n",
       "    </tr>\n",
       "    <tr>\n",
       "      <th>3</th>\n",
       "      <td>Belgium</td>\n",
       "      <td>diplomatic relation</td>\n",
       "      <td>Germany</td>\n",
       "    </tr>\n",
       "    <tr>\n",
       "      <th>4</th>\n",
       "      <td>Belgium</td>\n",
       "      <td>diplomatic relation</td>\n",
       "      <td>Liechtenstein</td>\n",
       "    </tr>\n",
       "  </tbody>\n",
       "</table>\n",
       "</div>"
      ],
      "text/plain": [
       "         h                    r              t\n",
       "0  Belgium              country        Belgium\n",
       "1  Belgium  diplomatic relation     Luxembourg\n",
       "2  Belgium  diplomatic relation          Italy\n",
       "3  Belgium  diplomatic relation        Germany\n",
       "4  Belgium  diplomatic relation  Liechtenstein"
      ]
     },
     "execution_count": 23,
     "metadata": {},
     "output_type": "execute_result"
    }
   ],
   "source": [
    "edges_labeled = np.stack([entity_labels[edges[:, 0]], \n",
    "                          entity_labels[edges[:, 1]], \n",
    "                          relation_labels[edges[:, 2]]], axis=1)\n",
    "\n",
    "df = pd.DataFrame(edges_labeled, columns=['h', 't', 'r'])[['h', 'r', 't']]\n",
    "df.head()"
   ]
  },
  {
   "cell_type": "markdown",
   "metadata": {},
   "source": [
    "Here are unique relations with the number of triplets"
   ]
  },
  {
   "cell_type": "code",
   "execution_count": 24,
   "metadata": {},
   "outputs": [
    {
     "data": {
      "text/plain": [
       "r\n",
       "applies to jurisdiction                                        1\n",
       "basic form of government                                       3\n",
       "biological process                                             1\n",
       "capital                                                       34\n",
       "capital of                                                    25\n",
       "contains administrative territorial entity                    94\n",
       "country                                                     1339\n",
       "country of citizenship                                         5\n",
       "country of origin                                              1\n",
       "culture                                                        3\n",
       "designated as terrorist by                                     9\n",
       "different from                                               113\n",
       "diplomatic relation                                         6145\n",
       "enclave within                                                 3\n",
       "facet of                                                      13\n",
       "family                                                         1\n",
       "followed by                                                  332\n",
       "follows                                                      316\n",
       "founded by                                                    11\n",
       "has contributing factor                                        1\n",
       "has part                                                     121\n",
       "headquarters location                                          8\n",
       "history of topic                                               2\n",
       "instance of                                                   18\n",
       "located in present-day administrative territorial entity       7\n",
       "located in the administrative territorial entity             212\n",
       "located on terrain feature                                    13\n",
       "location                                                       5\n",
       "location of formation                                          1\n",
       "member of                                                     36\n",
       "merged into                                                    3\n",
       "named after                                                   14\n",
       "opposite of                                                    2\n",
       "owned by                                                       2\n",
       "part of                                                      121\n",
       "partially coincident with                                      4\n",
       "permanent duplicated item                                      2\n",
       "replaced by                                                  462\n",
       "replaces                                                     414\n",
       "said to be the same as                                         8\n",
       "separated from                                                15\n",
       "shares border with                                          1395\n",
       "significant event                                              6\n",
       "subclass of                                                    6\n",
       "territory claimed by                                          18\n",
       "territory overlaps                                             4\n",
       "time period                                                    8\n",
       "topic's main category                                          2\n",
       "twinned administrative body                                    2\n",
       "Name: r, dtype: int64"
      ]
     },
     "execution_count": 24,
     "metadata": {},
     "output_type": "execute_result"
    }
   ],
   "source": [
    "df.r.groupby(df.r).count()"
   ]
  },
  {
   "cell_type": "markdown",
   "metadata": {},
   "source": [
    "Convert our dataset into a TorchKGE knowledge graph"
   ]
  },
  {
   "cell_type": "code",
   "execution_count": 25,
   "metadata": {},
   "outputs": [],
   "source": [
    "kg = KnowledgeGraph(\n",
    "    pd.DataFrame(edges_labeled, columns=['from', 'to', 'rel']))"
   ]
  },
  {
   "cell_type": "markdown",
   "metadata": {},
   "source": [
    "Split the dataset into train and test set. What differs from the standard method of randomly sampling N points to make up our test set, is that our data points are two entities linked by some relationship, and we need to take care to ensure that all entities are represented in train and test sets by at least one triple.\n",
    "\n"
   ]
  },
  {
   "cell_type": "code",
   "execution_count": 26,
   "metadata": {},
   "outputs": [],
   "source": [
    "kg_train, kg_test = kg.split_kg()"
   ]
  },
  {
   "cell_type": "markdown",
   "metadata": {},
   "source": [
    "Create required objects: model, loss, optimizer and trainer."
   ]
  },
  {
   "cell_type": "code",
   "execution_count": 27,
   "metadata": {},
   "outputs": [],
   "source": [
    "model = TransE(kg_train.n_ent, kg_train.n_rel, dim=64)\n",
    "criterion = MarginLoss(margin=0.5)\n",
    "optimizer = torch.optim.Adam(model.parameters(), lr=0.001)\n",
    "\n",
    "trainer = Trainer(\n",
    "    model, criterion, kg_train, n_epochs=200, \n",
    "    batch_size=2048, optimizer=optimizer)"
   ]
  },
  {
   "cell_type": "markdown",
   "metadata": {},
   "source": [
    "During training, positive triplets are selected, negative triplets are generated, margin loss is calculated and then the gradient step is performed."
   ]
  },
  {
   "cell_type": "code",
   "execution_count": 28,
   "metadata": {},
   "outputs": [
    {
     "data": {
      "application/vnd.jupyter.widget-view+json": {
       "model_id": "6e19575e92dc49888c08f6a16cf9dc42",
       "version_major": 2,
       "version_minor": 0
      },
      "text/plain": [
       "HBox(children=(HTML(value=''), FloatProgress(value=0.0, max=200.0), HTML(value='')))"
      ]
     },
     "metadata": {},
     "output_type": "display_data"
    },
    {
     "name": "stdout",
     "output_type": "stream",
     "text": [
      "\n"
     ]
    }
   ],
   "source": [
    "trainer.run()"
   ]
  },
  {
   "cell_type": "markdown",
   "metadata": {},
   "source": [
    "Let us evaluate our model on the link prediction task"
   ]
  },
  {
   "cell_type": "code",
   "execution_count": 29,
   "metadata": {
    "deletable": false,
    "editable": false,
    "nbgrader": {
     "cell_type": "code",
     "checksum": "3fdf16e46207c504dfec19a2800cd8b7",
     "grade": true,
     "grade_id": "cell-e6b0a4e916e8c503",
     "locked": true,
     "points": 2,
     "schema_version": 3,
     "solution": false,
     "task": false
    }
   },
   "outputs": [
    {
     "data": {
      "application/vnd.jupyter.widget-view+json": {
       "model_id": "2a7c2dc2525b4289940351c03387438f",
       "version_major": 2,
       "version_minor": 0
      },
      "text/plain": [
       "HBox(children=(HTML(value='Link prediction evaluation'), FloatProgress(value=0.0, max=17.0), HTML(value='')))"
      ]
     },
     "metadata": {},
     "output_type": "display_data"
    },
    {
     "name": "stdout",
     "output_type": "stream",
     "text": [
      "\n"
     ]
    }
   ],
   "source": [
    "evaluator = LinkPredictionEvaluator(model, kg_test)\n",
    "evaluator.evaluate(b_size=128)\n",
    "\n",
    "assert evaluator.hit_at_k(k=10)[0] > 0.3\n",
    "assert evaluator.mean_rank()[0] < 70\n",
    "assert evaluator.mrr()[0] > 0.1"
   ]
  },
  {
   "cell_type": "code",
   "execution_count": 30,
   "metadata": {},
   "outputs": [
    {
     "name": "stdout",
     "output_type": "stream",
     "text": [
      "Hit@10: 0.3729\n",
      "Mean Rank: 65.1693\n",
      "MRR: 0.1476\n"
     ]
    }
   ],
   "source": [
    "print('Hit@10: {:.4f}'.format(evaluator.hit_at_k(k=10)[0]))\n",
    "print('Mean Rank: {:.4f}'.format(evaluator.mean_rank()[0]))\n",
    "print('MRR: {:.4f}'.format(evaluator.mrr()[0]))"
   ]
  },
  {
   "cell_type": "markdown",
   "metadata": {},
   "source": [
    "`Hit@k` indicates how many times in average a true triple was ranked in the top-k.\n",
    "\n",
    "`Mean Rank` is a mean rank of the true entity when replacing alternatively head and tail in any fact of the dataset.\n",
    "\n",
    "`MRR` is an average of mean recovery rank for head and tail replacement."
   ]
  },
  {
   "cell_type": "markdown",
   "metadata": {},
   "source": [
    "### Task 3. 2D entity embedding (2 points)"
   ]
  },
  {
   "cell_type": "code",
   "execution_count": 31,
   "metadata": {},
   "outputs": [],
   "source": [
    "from sklearn.decomposition import TruncatedSVD\n",
    "from sklearn.cluster import KMeans\n",
    "import matplotlib.pyplot as plt"
   ]
  },
  {
   "cell_type": "markdown",
   "metadata": {},
   "source": [
    "Similarly to node embedding visualization, we can plot 2D embeddings of entities of knowledge graph.\n",
    "\n",
    "Write a function `ent_embeddgins` that takes the model, transforms entity embeddings into 2-dimenstional space via SVD, then finds 2 clusters via k-means and finally returns a tuple: np.array with embeddings and 0/1 labels of clusters."
   ]
  },
  {
   "cell_type": "code",
   "execution_count": 32,
   "metadata": {
    "deletable": false,
    "nbgrader": {
     "cell_type": "code",
     "checksum": "17f1706f3d95cf3e2c3d9107ca211a69",
     "grade": false,
     "grade_id": "cell-c79123779965d790",
     "locked": false,
     "schema_version": 3,
     "solution": true,
     "task": false
    }
   },
   "outputs": [],
   "source": [
    "def ent_embeddgins(model):\n",
    "    emb = model.ent_embeddings.weight.data.numpy()\n",
    "    emb_2d = TruncatedSVD(n_components=2).fit_transform(emb)\n",
    "    clusters = KMeans(n_clusters=2).fit_predict(emb_2d)\n",
    "    return emb_2d, clusters"
   ]
  },
  {
   "cell_type": "code",
   "execution_count": 33,
   "metadata": {
    "deletable": false,
    "editable": false,
    "nbgrader": {
     "cell_type": "code",
     "checksum": "635ba30fc4cecbebaba94724a89d4827",
     "grade": true,
     "grade_id": "cell-c4d5a66741d71c62",
     "locked": true,
     "points": 2,
     "schema_version": 3,
     "solution": false,
     "task": false
    }
   },
   "outputs": [],
   "source": [
    "ent_emb, labels = ent_embeddgins(model)\n",
    "assert ent_emb.shape == (1810, 2)\n",
    "assert labels.shape == (1810,)\n",
    "n_label1 = (labels == 1).sum()\n",
    "n_label0 = (labels == 0).sum()\n",
    "assert 0.14 < min(n_label1, n_label0) / max(n_label1, n_label0) < 0.16"
   ]
  },
  {
   "cell_type": "code",
   "execution_count": 34,
   "metadata": {},
   "outputs": [
    {
     "data": {
      "image/png": "[encoded data removed]",
      "text/plain": [
       "<Figure size 576x360 with 1 Axes>"
      ]
     },
     "metadata": {
      "needs_background": "light"
     },
     "output_type": "display_data"
    }
   ],
   "source": [
    "plt.figure(figsize=(8, 5))\n",
    "colors = np.array(plt.cm.tab10.colors)\n",
    "plt.scatter(ent_emb[:, 0], ent_emb[:, 1], s=10, c=colors[labels])\n",
    "plt.title('Entity embeddings')\n",
    "plt.show()"
   ]
  },
  {
   "cell_type": "markdown",
   "metadata": {},
   "source": [
    "Let us look at some randomly chosen entities from each cluster. Here we use `kg.ent2ix` dictionary to get labels of entities."
   ]
  },
  {
   "cell_type": "code",
   "execution_count": 35,
   "metadata": {},
   "outputs": [
    {
     "name": "stdout",
     "output_type": "stream",
     "text": [
      "First cluster:  Khmer Republic, Brunswijk-Celle, Federal Republic of Yugoslavia, Duchy of Thouars, Crimean Khanate, Republic of New Granada, Visigothic Kingdom, Democratic Republic of Azerbaijan, Kingdom of Luang Phrabang, Byelorussian Soviet Socialist Republic\n",
      "\n",
      "Second cluster:  Yugoslavia, Eritrea, Russian Empire, Chile, Croatia, Vietnam, Democratic Republic of the Congo, Uzbekistan, Slovakia, German Reich\n"
     ]
    }
   ],
   "source": [
    "ent_labels = np.array(list(kg.ent2ix.keys()))\n",
    "print('First cluster: ', ', '.join(\n",
    "    np.random.permutation(ent_labels[labels == 0])[:10]))\n",
    "print()\n",
    "print('Second cluster: ', ', '.join(\n",
    "    np.random.permutation(ent_labels[labels == 1])[:10]))"
   ]
  },
  {
   "cell_type": "markdown",
   "metadata": {},
   "source": [
    "### Task 4. Nearest neighbors of an entity (2 points)"
   ]
  },
  {
   "cell_type": "code",
   "execution_count": 36,
   "metadata": {},
   "outputs": [],
   "source": [
    "from sklearn.neighbors import NearestNeighbors"
   ]
  },
  {
   "cell_type": "markdown",
   "metadata": {},
   "source": [
    "Let us find a nearest neighbors of Belgium using embedding space.\n",
    "\n",
    "Write a function `similar_countries` that takes a name of country, graph and model and returns a list with names of nearest countries. Use `model.get_embeddings()`."
   ]
  },
  {
   "cell_type": "code",
   "execution_count": 37,
   "metadata": {
    "deletable": false,
    "nbgrader": {
     "cell_type": "code",
     "checksum": "2914a4ae39cc291785e97e21b00d67ae",
     "grade": false,
     "grade_id": "cell-fe878bfa8dc0c817",
     "locked": false,
     "schema_version": 3,
     "solution": true,
     "task": false
    }
   },
   "outputs": [],
   "source": [
    "def similar_countries(name, kg, model):\n",
    "    ent_emb, _ = model.get_embeddings()\n",
    "    nn = NearestNeighbors().fit(ent_emb)\n",
    "    _, indexes = nn.kneighbors(ent_emb)\n",
    "    idxs = indexes[kg.ent2ix[name]]\n",
    "    ent_names = list(kg.ent2ix.keys())\n",
    "    neighbors = [ent_names[i] for i in idxs]\n",
    "    return neighbors"
   ]
  },
  {
   "cell_type": "code",
   "execution_count": 38,
   "metadata": {
    "deletable": false,
    "editable": false,
    "nbgrader": {
     "cell_type": "code",
     "checksum": "4e88d5279728e100642339d7f1e4136e",
     "grade": true,
     "grade_id": "cell-0b8b02590a965cc3",
     "locked": true,
     "points": 2,
     "schema_version": 3,
     "solution": false,
     "task": false
    }
   },
   "outputs": [
    {
     "data": {
      "text/plain": [
       "['Belgium', 'Luxembourg', 'Netherlands', 'France', 'Hungary']"
      ]
     },
     "execution_count": 38,
     "metadata": {},
     "output_type": "execute_result"
    }
   ],
   "source": [
    "similar = similar_countries('Belgium', kg, model)\n",
    "assert 'Netherlands' in similar\n",
    "similar"
   ]
  },
  {
   "cell_type": "markdown",
   "metadata": {},
   "source": [
    "### Task 5. Relation prediction  (1.5 points)"
   ]
  },
  {
   "cell_type": "markdown",
   "metadata": {},
   "source": [
    "Let us consider these facts:\n",
    "1. Belgium shares border with France\n",
    "2. Belgium shares border with Switzerland\n",
    "3. Belgium shares border with Nigeria\n",
    "\n",
    "Only the fact 1 is truth, but it seems that the fact 2 is more likely than 3."
   ]
  },
  {
   "cell_type": "code",
   "execution_count": 39,
   "metadata": {},
   "outputs": [
    {
     "data": {
      "text/html": [
       "<div>\n",
       "<style scoped>\n",
       "    .dataframe tbody tr th:only-of-type {\n",
       "        vertical-align: middle;\n",
       "    }\n",
       "\n",
       "    .dataframe tbody tr th {\n",
       "        vertical-align: top;\n",
       "    }\n",
       "\n",
       "    .dataframe thead th {\n",
       "        text-align: right;\n",
       "    }\n",
       "</style>\n",
       "<table border=\"1\" class=\"dataframe\">\n",
       "  <thead>\n",
       "    <tr style=\"text-align: right;\">\n",
       "      <th></th>\n",
       "      <th>h</th>\n",
       "      <th>r</th>\n",
       "      <th>t</th>\n",
       "    </tr>\n",
       "  </thead>\n",
       "  <tbody>\n",
       "    <tr>\n",
       "      <th>8</th>\n",
       "      <td>Belgium</td>\n",
       "      <td>diplomatic relation</td>\n",
       "      <td>France</td>\n",
       "    </tr>\n",
       "    <tr>\n",
       "      <th>32</th>\n",
       "      <td>Belgium</td>\n",
       "      <td>shares border with</td>\n",
       "      <td>France</td>\n",
       "    </tr>\n",
       "  </tbody>\n",
       "</table>\n",
       "</div>"
      ],
      "text/plain": [
       "          h                    r       t\n",
       "8   Belgium  diplomatic relation  France\n",
       "32  Belgium   shares border with  France"
      ]
     },
     "execution_count": 39,
     "metadata": {},
     "output_type": "execute_result"
    }
   ],
   "source": [
    "df[(df.h == 'Belgium') & (df.t == 'France')]"
   ]
  },
  {
   "cell_type": "code",
   "execution_count": 40,
   "metadata": {},
   "outputs": [
    {
     "data": {
      "text/html": [
       "<div>\n",
       "<style scoped>\n",
       "    .dataframe tbody tr th:only-of-type {\n",
       "        vertical-align: middle;\n",
       "    }\n",
       "\n",
       "    .dataframe tbody tr th {\n",
       "        vertical-align: top;\n",
       "    }\n",
       "\n",
       "    .dataframe thead th {\n",
       "        text-align: right;\n",
       "    }\n",
       "</style>\n",
       "<table border=\"1\" class=\"dataframe\">\n",
       "  <thead>\n",
       "    <tr style=\"text-align: right;\">\n",
       "      <th></th>\n",
       "      <th>h</th>\n",
       "      <th>r</th>\n",
       "      <th>t</th>\n",
       "    </tr>\n",
       "  </thead>\n",
       "  <tbody>\n",
       "  </tbody>\n",
       "</table>\n",
       "</div>"
      ],
      "text/plain": [
       "Empty DataFrame\n",
       "Columns: [h, r, t]\n",
       "Index: []"
      ]
     },
     "execution_count": 40,
     "metadata": {},
     "output_type": "execute_result"
    }
   ],
   "source": [
    "df[(df.h == 'Belgium') & (df.t == 'Switzerland')]"
   ]
  },
  {
   "cell_type": "code",
   "execution_count": 41,
   "metadata": {},
   "outputs": [
    {
     "data": {
      "text/html": [
       "<div>\n",
       "<style scoped>\n",
       "    .dataframe tbody tr th:only-of-type {\n",
       "        vertical-align: middle;\n",
       "    }\n",
       "\n",
       "    .dataframe tbody tr th {\n",
       "        vertical-align: top;\n",
       "    }\n",
       "\n",
       "    .dataframe thead th {\n",
       "        text-align: right;\n",
       "    }\n",
       "</style>\n",
       "<table border=\"1\" class=\"dataframe\">\n",
       "  <thead>\n",
       "    <tr style=\"text-align: right;\">\n",
       "      <th></th>\n",
       "      <th>h</th>\n",
       "      <th>r</th>\n",
       "      <th>t</th>\n",
       "    </tr>\n",
       "  </thead>\n",
       "  <tbody>\n",
       "  </tbody>\n",
       "</table>\n",
       "</div>"
      ],
      "text/plain": [
       "Empty DataFrame\n",
       "Columns: [h, r, t]\n",
       "Index: []"
      ]
     },
     "execution_count": 41,
     "metadata": {},
     "output_type": "execute_result"
    }
   ],
   "source": [
    "df[(df.h == 'Belgium') & (df.t == 'Nigeria')]"
   ]
  },
  {
   "cell_type": "markdown",
   "metadata": {},
   "source": [
    "Now we can compare these facts using scoring function of TransE model to check our prior knowledge.\n",
    "\n",
    "Write a function `belgium_facts` that takes a model, a graph and returns 3 values of scoring function for each fact. Use `model.scoring_function` with `torch.no_grad()`."
   ]
  },
  {
   "cell_type": "code",
   "execution_count": 42,
   "metadata": {
    "deletable": false,
    "nbgrader": {
     "cell_type": "code",
     "checksum": "d6b24f412af3938aadfd82f350222dcb",
     "grade": false,
     "grade_id": "cell-5feee5e866b961d0",
     "locked": false,
     "schema_version": 3,
     "solution": true,
     "task": false
    }
   },
   "outputs": [],
   "source": [
    "def belgium_facts(model, kg):\n",
    "    h = \"Belgium\"\n",
    "    r = \"shares border with\"\n",
    "    ts = [\"France\", \"Switzerland\", \"Nigeria\"]\n",
    "    res = []\n",
    "    with torch.no_grad():\n",
    "        for t in ts:\n",
    "            score = model.scoring_function(\n",
    "                torch.LongTensor([kg.ent2ix[h]]), \n",
    "                torch.LongTensor([kg.ent2ix[t]]), \n",
    "                torch.LongTensor([kg.rel2ix[r]])\n",
    "            ).item()\n",
    "            res.append(score)\n",
    "    return res"
   ]
  },
  {
   "cell_type": "code",
   "execution_count": 43,
   "metadata": {
    "deletable": false,
    "editable": false,
    "nbgrader": {
     "cell_type": "code",
     "checksum": "e44ce3f375e10b5aac1652d72d94b53f",
     "grade": true,
     "grade_id": "cell-a6b6e4e88ba6569f",
     "locked": true,
     "points": 1.5,
     "schema_version": 3,
     "solution": false,
     "task": false
    }
   },
   "outputs": [
    {
     "data": {
      "text/plain": [
       "[-0.5972567200660706, -0.6989678740501404, -0.9942617416381836]"
      ]
     },
     "execution_count": 43,
     "metadata": {},
     "output_type": "execute_result"
    }
   ],
   "source": [
    "scores = belgium_facts(model, kg)\n",
    "assert scores[0] > scores[1] > scores[2]\n",
    "scores"
   ]
  },
  {
   "cell_type": "markdown",
   "metadata": {},
   "source": [
    "### Task 6. Tail prediction (1.5 points)"
   ]
  },
  {
   "cell_type": "markdown",
   "metadata": {},
   "source": [
    "Recall that the main idea of TransE is to learn $h + r \\approx t$, so let us find the closest tails for the head + relation pair.\n",
    "\n",
    "Write a function `soviet_tail` that takes a model, graph and finds 5 nearest neighbors for the pair $h$ is \"Soviet Union\" and $r$ is \"founded by\"."
   ]
  },
  {
   "cell_type": "code",
   "execution_count": 44,
   "metadata": {
    "deletable": false,
    "nbgrader": {
     "cell_type": "code",
     "checksum": "803dd88ce8a03a13810ab252b70a682e",
     "grade": false,
     "grade_id": "cell-dbc103d80a938c68",
     "locked": false,
     "schema_version": 3,
     "solution": true,
     "task": false
    }
   },
   "outputs": [],
   "source": [
    "def soviet_tail(model, kg):\n",
    "    ent_emb, rel_emb = model.get_embeddings()\n",
    "    h_r = ent_emb[kg.ent2ix[\"Soviet Union\"]] + rel_emb[kg.rel2ix[\"founded by\"]]\n",
    "    distances = np.array([np.linalg.norm(h_r - t) for t in ent_emb])\n",
    "    idxs = np.argpartition(distances, kth=5)[:5]\n",
    "    ent_names = list(kg.ent2ix.keys())\n",
    "    res = [ent_names[i] for i in idxs]\n",
    "    return res"
   ]
  },
  {
   "cell_type": "code",
   "execution_count": 45,
   "metadata": {
    "deletable": false,
    "editable": false,
    "nbgrader": {
     "cell_type": "code",
     "checksum": "0c239093b99dc4fbeada6cdb59fdba6f",
     "grade": true,
     "grade_id": "cell-ba34f9e5a695e8ca",
     "locked": true,
     "points": 1.5,
     "schema_version": 3,
     "solution": false,
     "task": false
    }
   },
   "outputs": [
    {
     "data": {
      "text/plain": [
       "['Russian Empire',\n",
       " 'Soviet Union',\n",
       " 'Second Polish Republic',\n",
       " 'Russian Soviet Federative Socialist Republic',\n",
       " 'Empire of Japan']"
      ]
     },
     "execution_count": 45,
     "metadata": {},
     "output_type": "execute_result"
    }
   ],
   "source": [
    "tails = soviet_tail(model, kg)\n",
    "assert 'Russian Soviet Federative Socialist Republic' in tails\n",
    "tails"
   ]
  },
  {
   "cell_type": "code",
   "execution_count": null,
   "metadata": {},
   "outputs": [],
   "source": []
  }
 ],
 "metadata": {
  "kernelspec": {
   "display_name": "Python 3",
   "language": "python",
   "name": "python3"
  },
  "language_info": {
   "codemirror_mode": {
    "name": "ipython",
    "version": 3
   },
   "file_extension": ".py",
   "mimetype": "text/x-python",
   "name": "python",
   "nbconvert_exporter": "python",
   "pygments_lexer": "ipython3",
   "version": "3.9.0"
  }
 },
 "nbformat": 4,
 "nbformat_minor": 4
}
