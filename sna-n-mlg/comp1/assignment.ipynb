{
 "cells": [
  {
   "cell_type": "code",
   "execution_count": 1,
   "metadata": {},
   "outputs": [],
   "source": [
    "import time\n",
    "import numpy as np\n",
    "import json\n",
    "import networkx as nx\n",
    "from pprint import pprint\n",
    "from collections import Counter\n",
    "import random\n",
    "import time"
   ]
  },
  {
   "cell_type": "code",
   "execution_count": 2,
   "metadata": {},
   "outputs": [],
   "source": [
    "with open(\"stats.txt\", mode=\"r\") as f:\n",
    "    stats = json.load(f)"
   ]
  },
  {
   "cell_type": "code",
   "execution_count": 3,
   "metadata": {},
   "outputs": [
    {
     "name": "stdout",
     "output_type": "stream",
     "text": [
      "{'average_clustering': [0.005066798238955518, 0.001],\n",
      " 'average_path_length': [11.748410823170731, 2],\n",
      " 'degree_cdf': [[0,\n",
      "                 1,\n",
      "                 2,\n",
      "                 3,\n",
      "                 4,\n",
      "                 5,\n",
      "                 6,\n",
      "                 7,\n",
      "                 8,\n",
      "                 9,\n",
      "                 10,\n",
      "                 11,\n",
      "                 12,\n",
      "                 13,\n",
      "                 14,\n",
      "                 15,\n",
      "                 16,\n",
      "                 17,\n",
      "                 19,\n",
      "                 21,\n",
      "                 24,\n",
      "                 46],\n",
      "                [0.0,\n",
      "                 0.6902231668437833,\n",
      "                 0.8517534537725824,\n",
      "                 0.9086078639744952,\n",
      "                 0.9378320935175345,\n",
      "                 0.9516471838469713,\n",
      "                 0.9654622741764081,\n",
      "                 0.9723698193411264,\n",
      "                 0.9776833156216791,\n",
      "                 0.9808714133900106,\n",
      "                 0.9845908607863975,\n",
      "                 0.9888416578108395,\n",
      "                 0.9893730074388948,\n",
      "                 0.9925611052072264,\n",
      "                 0.9936238044633369,\n",
      "                 0.9952178533475027,\n",
      "                 0.9957492029755579,\n",
      "                 0.9968119022316685,\n",
      "                 0.997874601487779,\n",
      "                 0.9989373007438895,\n",
      "                 0.9994686503719448,\n",
      "                 1.0]],\n",
      " 'diameter': [28, 4],\n",
      " 'number_cc': [168, 32],\n",
      " 'number_nodes': 1882,\n",
      " 'radius': [15, 2]}\n"
     ]
    }
   ],
   "source": [
    "pprint(stats)"
   ]
  },
  {
   "cell_type": "code",
   "execution_count": 4,
   "metadata": {},
   "outputs": [],
   "source": [
    "def gauss_kernel(r, r_mean, r_sigma):\n",
    "    gk = (r - r_mean) ** 2\n",
    "    gk /= 2 * r_sigma ** 2\n",
    "    gk = np.exp(-gk)\n",
    "    return gk"
   ]
  },
  {
   "cell_type": "code",
   "execution_count": 5,
   "metadata": {},
   "outputs": [],
   "source": [
    "def score(G, stats, verbose=False):\n",
    "    G0 = G.subgraph(\n",
    "        max(nx.connected_components(G), key=len)\n",
    "    )\n",
    "\n",
    "    radius_mean, radius_sigma = stats[\"radius\"]\n",
    "    diameter_mean, diameter_sigma = stats[\"diameter\"]\n",
    "    average_clustering_mean, average_clustering_sigma = stats[\"average_clustering\"]\n",
    "    average_path_length_mean, average_path_sigma = stats[\"average_path_length\"]\n",
    "    number_cc_mean, number_cc_sigma = stats['number_cc']\n",
    "    \n",
    "    r = gauss_kernel(nx.radius(G0), radius_mean, radius_sigma)\n",
    "    d = gauss_kernel(nx.diameter(G0), diameter_mean, diameter_sigma)\n",
    "    ac = gauss_kernel(nx.average_clustering(G), average_clustering_mean, average_clustering_sigma)\n",
    "    aspl = gauss_kernel(nx.average_shortest_path_length(G0), average_path_length_mean, average_path_sigma)\n",
    "    ncc = gauss_kernel(nx.number_connected_components(G), number_cc_mean, number_cc_sigma)\n",
    "    \n",
    "    res = r + d + ac + aspl + ncc \n",
    "    \n",
    "    if verbose:\n",
    "        print(\"Radius:\", r)\n",
    "        print(\"Diameter:\", d)\n",
    "        print(\"Average clustering:\", ac)\n",
    "        print(\"Average shortest path length:\", aspl)\n",
    "        print(\"Number of connected components:\", ncc)\n",
    "        \n",
    "    return res"
   ]
  },
  {
   "cell_type": "code",
   "execution_count": 6,
   "metadata": {},
   "outputs": [],
   "source": [
    "def sample_discrete_variable_from_cdf(n, cdf):\n",
    "    q_seq, p_seq = cdf\n",
    "    \n",
    "    intervals = [(q_seq[i] + 1, q_seq[i + 1]) for i in range(len(q_seq) - 1)]\n",
    "    interval_proba = np.diff(p_seq)\n",
    "    \n",
    "    idx_sample = np.random.choice(range(len(intervals)), p=interval_proba, size=n)\n",
    "    idx_counter = Counter(idx_sample)\n",
    "    \n",
    "    sample = []\n",
    "    for idx, size in idx_counter.items():\n",
    "        cur_idx_sample = [random.randint(*intervals[idx]) for _ in range(size)]\n",
    "        sample.extend(cur_idx_sample)\n",
    "    if sum(sample) % 2 != 0:\n",
    "        save_idx = np.random.randint(0, n)\n",
    "        sample[save_idx] += 1\n",
    "    return np.array(sample)"
   ]
  },
  {
   "cell_type": "code",
   "execution_count": 12,
   "metadata": {
    "scrolled": true
   },
   "outputs": [],
   "source": [
    "tries = 50\n",
    "best_score = 0\n",
    "best_graph = None\n",
    "start_time = time.perf_counter()\n",
    "    \n",
    "for i in range(tries):\n",
    "    G = nx.generators.degree_seq.configuration_model(\n",
    "        sample_discrete_variable_from_cdf(n=stats[\"number_nodes\"], cdf=stats[\"degree_cdf\"]),\n",
    "        create_using=nx.Graph\n",
    "    )\n",
    "    G.remove_edges_from(nx.selfloop_edges(G))\n",
    "    \n",
    "    cur_score = score(G, stats)\n",
    "    if cur_score > best_score:\n",
    "        best_graph = G\n",
    "        best_score = cur_score\n",
    "    \n",
    "    if i % 10 == 0:\n",
    "        print(\"Total seconds:\", time.perf_counter() - start_time)\n",
    "        print(\"Iteration:\", i)\n",
    "        print(\"Score:\", best_score)\n",
    "        print()"
   ]
  },
  {
   "cell_type": "code",
   "execution_count": 8,
   "metadata": {},
   "outputs": [],
   "source": [
    "G = best_graph.copy()"
   ]
  },
  {
   "cell_type": "code",
   "execution_count": 9,
   "metadata": {},
   "outputs": [],
   "source": [
    "component_vertices = []\n",
    "for cc in sorted(nx.connected_components(best_graph), key=len):\n",
    "    cv = random.choice(list(cc))\n",
    "    component_vertices.append(cv)\n",
    "\n",
    "number_cc_mean, _ = stats[\"number_cc\"]\n",
    "for v in component_vertices:\n",
    "    if nx.number_connected_components(G) <= number_cc_mean:\n",
    "        break\n",
    "    u = random.choice([u for u, _ in G.degree() if u != v and not G.has_edge(u, v)])\n",
    "    G.add_edge(u, v)"
   ]
  },
  {
   "cell_type": "code",
   "execution_count": 10,
   "metadata": {},
   "outputs": [
    {
     "name": "stdout",
     "output_type": "stream",
     "text": [
      "Radius: 0.8824969025845955\n",
      "Diameter: 0.9692332344763441\n",
      "Average clustering: 5.6130285650428854e-05\n",
      "Average shortest path length: 0.484923196986354\n",
      "Number of connected components: 1.0\n",
      "Score: 3.336709464332944\n"
     ]
    }
   ],
   "source": [
    "print(\"Score:\", score(G, stats, verbose=True))"
   ]
  },
  {
   "cell_type": "code",
   "execution_count": 11,
   "metadata": {},
   "outputs": [],
   "source": [
    "with open(\"submission.txt\", mode=\"w\") as f:\n",
    "    res = \"\"\n",
    "    for edge in G.edges:\n",
    "        u, v = edge\n",
    "        res += f\"{u} {v}\"\n",
    "        res += \"\\n\"\n",
    "    f.write(res)"
   ]
  },
  {
   "cell_type": "code",
   "execution_count": null,
   "metadata": {},
   "outputs": [],
   "source": []
  }
 ],
 "metadata": {
  "kernelspec": {
   "display_name": "Python 3",
   "language": "python",
   "name": "python3"
  },
  "language_info": {
   "codemirror_mode": {
    "name": "ipython",
    "version": 3
   },
   "file_extension": ".py",
   "mimetype": "text/x-python",
   "name": "python",
   "nbconvert_exporter": "python",
   "pygments_lexer": "ipython3",
   "version": "3.9.0"
  }
 },
 "nbformat": 4,
 "nbformat_minor": 4
}
