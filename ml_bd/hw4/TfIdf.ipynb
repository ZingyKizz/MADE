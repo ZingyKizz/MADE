﻿{
  "metadata": {
    "name": "TfIdf",
    "kernelspec": {
      "language": "scala",
      "name": "spark2-scala"
    },
    "language_info": {
      "codemirror_mode": "text/x-scala",
      "file_extension": ".scala",
      "mimetype": "text/x-scala",
      "name": "scala",
      "pygments_lexer": "scala"
    }
  },
  "nbformat": 4,
  "nbformat_minor": 2,
  "cells": [
    {
      "cell_type": "markdown",
      "metadata": {},
      "source": "# Imports"
    },
    {
      "cell_type": "code",
      "execution_count": 1,
      "metadata": {
        "autoscroll": "auto"
      },
      "outputs": [],
      "source": "import org.apache.spark.sql._\nimport org.apache.spark.sql.{functions \u003d\u003e F}\nimport spark.implicits._"
    },
    {
      "cell_type": "markdown",
      "metadata": {},
      "source": "# Constants"
    },
    {
      "cell_type": "code",
      "execution_count": 3,
      "metadata": {
        "autoscroll": "auto"
      },
      "outputs": [],
      "source": "val appName \u003d \"MADE_hw4\"\nval topN \u003d 100\nval inputPath \u003d \"tripadvisor_hotel_reviews.csv\"\nval outputPath \u003d \"tfidf.csv\""
    },
    {
      "cell_type": "markdown",
      "metadata": {},
      "source": "# Loading Data"
    },
    {
      "cell_type": "code",
      "execution_count": 5,
      "metadata": {
        "autoscroll": "auto"
      },
      "outputs": [],
      "source": "val spark \u003d (\n    SparkSession.builder\n    .master(\"local[*]\")\n    .appName(appName)\n    .getOrCreate\n)"
    },
    {
      "cell_type": "code",
      "execution_count": 6,
      "metadata": {
        "autoscroll": "auto"
      },
      "outputs": [],
      "source": "val reviews \u003d (\n    spark.read.option(\"header\", true).csv(inputPath)\n    .withColumn(\"Id\", F.monotonically_increasing_id)\n    .cache\n)\n\nval numReviews \u003d reviews.count"
    },
    {
      "cell_type": "code",
      "execution_count": 7,
      "metadata": {
        "autoscroll": "auto"
      },
      "outputs": [],
      "source": "reviews.show"
    },
    {
      "cell_type": "markdown",
      "metadata": {},
      "source": "# Preprocessing"
    },
    {
      "cell_type": "code",
      "execution_count": 9,
      "metadata": {
        "autoscroll": "auto"
      },
      "outputs": [],
      "source": "val parsedTokens \u003d reviews.select(\n    F.col(\"Id\"), \n    F.explode(\n        F.split(\n            F.lower(\n                F.trim(\n                    F.regexp_replace(F.col(\"Review\"), pattern\u003d\"[^A-Za-z0-9- ]\", replacement\u003d\"\")\n                )\n            ),\n            pattern\u003d\" \"\n        )\n    ).alias(\"Token\")\n).cache"
    },
    {
      "cell_type": "code",
      "execution_count": 10,
      "metadata": {
        "autoscroll": "auto"
      },
      "outputs": [],
      "source": "parsedTokens.show"
    },
    {
      "cell_type": "markdown",
      "metadata": {},
      "source": "# Calculating TF"
    },
    {
      "cell_type": "code",
      "execution_count": 12,
      "metadata": {
        "autoscroll": "auto"
      },
      "outputs": [],
      "source": "val tf \u003d (\n    parsedTokens.groupBy(\"Id\", \"Token\")\n    .agg(F.count(F.lit(1)).alias(\"tf\"))\n    .cache\n)"
    },
    {
      "cell_type": "code",
      "execution_count": 13,
      "metadata": {
        "autoscroll": "auto"
      },
      "outputs": [],
      "source": "tf.show"
    },
    {
      "cell_type": "code",
      "execution_count": 14,
      "metadata": {
        "autoscroll": "auto"
      },
      "outputs": [],
      "source": "val df \u003d (\n    parsedTokens.groupBy(\"Token\")\n    .agg(F.countDistinct(\"Id\").alias(\"Df\"))\n    .cache\n)"
    },
    {
      "cell_type": "code",
      "execution_count": 15,
      "metadata": {
        "autoscroll": "auto"
      },
      "outputs": [],
      "source": "df.show"
    },
    {
      "cell_type": "markdown",
      "metadata": {},
      "source": " \n\n# Calculating IDF"
    },
    {
      "cell_type": "code",
      "execution_count": 17,
      "metadata": {
        "autoscroll": "auto"
      },
      "outputs": [],
      "source": "val idf \u003d (\n    df.orderBy(F.desc(\"Df\"))\n    .limit(topN)\n    .withColumn(\"Idf\", F.log(F.lit(numReviews) / F.col(\"Df\")))\n    .select(\"Token\", \"Idf\")\n)"
    },
    {
      "cell_type": "code",
      "execution_count": 18,
      "metadata": {
        "autoscroll": "auto"
      },
      "outputs": [],
      "source": "idf.show"
    },
    {
      "cell_type": "markdown",
      "metadata": {},
      "source": "# Calculating TFIDF"
    },
    {
      "cell_type": "code",
      "execution_count": 20,
      "metadata": {
        "autoscroll": "auto"
      },
      "outputs": [],
      "source": "val tfIdfUnfilled \u003d (\n    reviews.select(\"Id\")\n    .distinct\n    .crossJoin(idf.select(\"Token\"))\n    .cache\n)"
    },
    {
      "cell_type": "code",
      "execution_count": 21,
      "metadata": {
        "autoscroll": "auto"
      },
      "outputs": [],
      "source": "tfIdfUnfilled.show"
    },
    {
      "cell_type": "code",
      "execution_count": 22,
      "metadata": {
        "autoscroll": "auto"
      },
      "outputs": [],
      "source": "val tfIdf \u003d (\n    tfIdfUnfilled.join(\n        tf.join(idf, Seq(\"Token\")).withColumn(\n            \"tfIdf\", F.col(\"Tf\") * F.col(\"Idf\")\n        ).select(\"Id\", \"Token\", \"tfIdf\"),\n        Seq(\"Id\", \"Token\"),\n        \"left\"\n    )\n    .na.fill(0)\n    .groupBy(\"Id\")\n    .pivot(\"Token\")\n    .agg(F.first(F.col(\"TfIdf\")))\n    .cache\n)"
    },
    {
      "cell_type": "code",
      "execution_count": 23,
      "metadata": {
        "autoscroll": "auto"
      },
      "outputs": [],
      "source": "tfIdf.show"
    },
    {
      "cell_type": "markdown",
      "metadata": {},
      "source": "# Saving results"
    },
    {
      "cell_type": "code",
      "execution_count": 25,
      "metadata": {
        "autoscroll": "auto"
      },
      "outputs": [],
      "source": "tfIdf.write.mode(\"overwrite\").csv(outputPath)"
    }
  ]
}