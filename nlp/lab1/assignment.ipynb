{
 "cells": [
  {
   "cell_type": "code",
   "execution_count": 1,
   "metadata": {},
   "outputs": [],
   "source": [
    "import pandas as pd\n",
    "import numpy as np\n",
    "import pickle\n",
    "import torch.nn as nn\n",
    "import torch\n",
    "import torch.nn.functional as F\n",
    "import re\n",
    "import string\n",
    "import matplotlib.pyplot as plt\n",
    "import itertools\n",
    "from IPython.display import clear_output\n",
    "from gensim.models import Word2Vec"
   ]
  },
  {
   "cell_type": "code",
   "execution_count": 2,
   "metadata": {},
   "outputs": [],
   "source": [
    "BATCH_SIZE=25"
   ]
  },
  {
   "cell_type": "code",
   "execution_count": 3,
   "metadata": {},
   "outputs": [],
   "source": [
    "with open(\"asadov.pkl\", mode=\"rb\") as f:\n",
    "    asadov = pickle.load(f)"
   ]
  },
  {
   "cell_type": "code",
   "execution_count": 4,
   "metadata": {},
   "outputs": [],
   "source": [
    "def preprocess(text):\n",
    "    text = re.sub(f\"([{string.punctuation}\\n]+)\", r\" \\1 \", text)\n",
    "    text = re.sub(r\"\\n+\", r\" \\n \", text)\n",
    "    text = re.sub(r\"[\\t\\*\\(\\)«»\\\"]+\", \" \", text)\n",
    "    text = re.sub(r\"\\xa0\", \" \", text)\n",
    "    text = re.sub(r\"&\", \" \", text)\n",
    "    text = re.sub(r\"…\", \" . \", text)\n",
    "    text = re.sub(r\"\\\\+\", \" \", text)\n",
    "    text = re.sub(r\"[-–—]+\", \" \", text)\n",
    "    text = re.sub(r\"!!!\", \" ! \", text)\n",
    "    text = re.sub(r\"a\", \"\\.\", text)\n",
    "    text = re.sub(r\"\\?\\\\\\\\.\", \" ? \", text)\n",
    "    text = re.sub(r\"\\?!\", \"?\", text)\n",
    "    text = re.sub(r\"\\\\[^\\s]+\", \" \", text)\n",
    "    text = re.sub(r\"_+\", \" \", text)\n",
    "    text = re.sub(r\"!&\", \" ! \", text)\n",
    "    text = re.sub(r\"!\\.+\", \" ! \", text)\n",
    "    text = re.sub(r\";\", \" \", text)\n",
    "    text = re.sub(r\"\\d+\", \" \", text)\n",
    "    text = re.sub(r\"[a-zA-Z]\", \" \", text)\n",
    "    text = re.sub(r\"\\.+\", \" . \", text)\n",
    "    text = re.sub(r\"'\", \"\", text)\n",
    "    text = re.sub(r\"\\.,\\.\", \" . \", text)\n",
    "    text = re.sub(r\" +\", \" \", text)\n",
    "    text = text.lower()\n",
    "    text_tokens = [x for x in text.split(\" \") if x]\n",
    "    tokens = []\n",
    "    tokens.append(\"<SOS>\")\n",
    "    tokens.extend(text_tokens)\n",
    "    tokens.append(\"<EOS>\")\n",
    "    return tokens"
   ]
  },
  {
   "cell_type": "code",
   "execution_count": 5,
   "metadata": {},
   "outputs": [],
   "source": [
    "poems = sorted([preprocess(poem) for poem in asadov], key=len) "
   ]
  },
  {
   "cell_type": "code",
   "execution_count": 6,
   "metadata": {},
   "outputs": [
    {
     "name": "stdout",
     "output_type": "stream",
     "text": [
      "['<SOS>', '\\n', '<EOS>']\n",
      "['<SOS>', '.', '\\n', '<EOS>']\n",
      "['<SOS>', '.', '\\n', '<EOS>']\n",
      "['<SOS>', '.', '\\n', '<EOS>']\n",
      "['<SOS>', '.', '\\n', '<EOS>']\n",
      "['<SOS>', 'стих', 'шутка', '\\n', '<EOS>']\n",
      "['<SOS>', 'владимир', 'мономах', '\\n', '<EOS>']\n",
      "['<SOS>', 'стих', 'шутка', '\\n', '<EOS>']\n",
      "['<SOS>', 'кристине', 'асадовой', '\\n', '<EOS>']\n",
      "['<SOS>', 'в', '.', 'тушнова', '\\n', '<EOS>']\n",
      "['<SOS>', '\\n', 'ирине', 'викторовой', '\\n', '<EOS>']\n",
      "['<SOS>', '\\n', 'лидии', 'константиновне', '\\n', '<EOS>']\n",
      "['<SOS>', '\\n', 'стих', 'шутка', '\\n', '<EOS>']\n",
      "['<SOS>', '\\n', 'сказка', 'шутка', '\\n', '<EOS>']\n",
      "['<SOS>', '\\n', 'лирическая', 'быль', '\\n', '<EOS>']\n"
     ]
    }
   ],
   "source": [
    "print(*poems[:15], sep=\"\\n\")"
   ]
  },
  {
   "cell_type": "code",
   "execution_count": 7,
   "metadata": {},
   "outputs": [
    {
     "name": "stdout",
     "output_type": "stream",
     "text": [
      "<SOS> я в глазах твоих утону можно ? \n",
      " ведь в глазах твоих утонуть счастье ! \n",
      " подойду и скажу здравствуй ! \n",
      " я люблю тебя очень сложно ? \n",
      " нет не сложно это , а трудно . \n",
      " очень трудно любить веришь ? \n",
      " подойду я к обрыву крутому \n",
      " падать буду поймать успеешь ? \n",
      " ну , а если уеду напишешь ? \n",
      " только мне без тебя трудно ! \n",
      " я хочу быть с тобою слышишь ? \n",
      " ни минуту , ни месяц , а долго \n",
      " очень долго , всю жизнь понимаешь ? \n",
      " значит вместе всегда хочешь ? \n",
      " я ответа боюсь знаешь ? \n",
      " ты ответь мне , но только глазами . \n",
      " ты ответь мне глазами любишь ? \n",
      " если да , то тебе обещаю , \n",
      " что ты самым счастливым будешь . \n",
      " если нет , то тебя умоляю \n",
      " не кори своим взглядом , не надо , \n",
      " не тяни за собою в омут , \n",
      " но меня ты чуть чуть помни . \n",
      " я любить тебя буду можно ? \n",
      " даже если нельзя . буду ! \n",
      " и всегда я приду на помощь , \n",
      " если будет тебе трудно ! <EOS>\n"
     ]
    }
   ],
   "source": [
    "print(\" \".join(poems[-1]))"
   ]
  },
  {
   "cell_type": "code",
   "execution_count": 8,
   "metadata": {},
   "outputs": [
    {
     "data": {
      "image/png": "[encoded data removed]",
      "text/plain": [
       "<Figure size 432x288 with 1 Axes>"
      ]
     },
     "metadata": {
      "needs_background": "light"
     },
     "output_type": "display_data"
    }
   ],
   "source": [
    "plt.plot(\n",
    "    range(len(poems)),\n",
    "    [len(poem) for poem in poems]\n",
    ")\n",
    "plt.show()"
   ]
  },
  {
   "cell_type": "code",
   "execution_count": 9,
   "metadata": {},
   "outputs": [
    {
     "name": "stdout",
     "output_type": "stream",
     "text": [
      "20516\n",
      "['многозначительно', 'наследственность', 'неограниченности', 'несправедливость', 'принципиальность', 'распространенней', 'безнравственность', 'загипнотизировали', 'политиканствующим', 'сентиментальности']\n",
      "['\\n', '!', ',', '.', ':', '?', 'а', 'б', 'в', 'д']\n"
     ]
    }
   ],
   "source": [
    "tokens = [\"<PAD>\"]\n",
    "tokens.extend(\n",
    "    sorted(set(itertools.chain.from_iterable(poems)))\n",
    ")\n",
    "\n",
    "idx_token_map = {idx: token for idx, token in enumerate(tokens)}\n",
    "token_idx_map = {token: idx for idx, token in enumerate(tokens)}\n",
    "\n",
    "num_tokens = len(tokens)\n",
    "\n",
    "print(num_tokens)\n",
    "\n",
    "print(sorted(tokens, key=len)[-10:])\n",
    "print(sorted(tokens, key=len)[:10])"
   ]
  },
  {
   "cell_type": "code",
   "execution_count": 10,
   "metadata": {},
   "outputs": [
    {
     "name": "stdout",
     "output_type": "stream",
     "text": [
      "3700\n"
     ]
    },
    {
     "data": {
      "image/png": "[encoded data removed]",
      "text/plain": [
       "<Figure size 432x288 with 1 Axes>"
      ]
     },
     "metadata": {
      "needs_background": "light"
     },
     "output_type": "display_data"
    }
   ],
   "source": [
    "poems = [poem for poem in poems if 25 <= len(poem) <= 45]\n",
    "poems = poems[:len(poems) - len(poems) % BATCH_SIZE]\n",
    "\n",
    "print(len(poems))\n",
    "\n",
    "plt.plot(\n",
    "    range(len(poems)),\n",
    "    [len(poem) for poem in poems]\n",
    ")\n",
    "plt.show()"
   ]
  },
  {
   "cell_type": "code",
   "execution_count": 11,
   "metadata": {},
   "outputs": [
    {
     "name": "stdout",
     "output_type": "stream",
     "text": [
      "[0, 7, 6]\n"
     ]
    }
   ],
   "source": [
    "print([token_idx_map[x] for x in (\"<PAD>\", \"<SOS>\", \"<EOS>\")])"
   ]
  },
  {
   "cell_type": "code",
   "execution_count": 12,
   "metadata": {},
   "outputs": [],
   "source": [
    "def poems_to_matrix(poems):       \n",
    "    poems_ix = np.zeros([len(poems), max(map(len, poems))], dtype=np.int32)\n",
    "\n",
    "    for i in range(len(poems)):\n",
    "        line_ix = [token_idx_map[t] for t in poems[i]]\n",
    "        poems_ix[i, :len(line_ix)] = line_ix\n",
    "        \n",
    "    return poems_ix"
   ]
  },
  {
   "cell_type": "code",
   "execution_count": 13,
   "metadata": {},
   "outputs": [],
   "source": [
    "def batch_gen():\n",
    "    batches = [poems_to_matrix(poems[i : i + BATCH_SIZE]) for i in range(0, len(poems), BATCH_SIZE)]\n",
    "    np.random.shuffle(batches)\n",
    "    for batch in batches:\n",
    "        x = batch[:, :-1]\n",
    "        y = batch[:, 1:]\n",
    "        yield torch.LongTensor(x), torch.LongTensor(y)"
   ]
  },
  {
   "cell_type": "code",
   "execution_count": 14,
   "metadata": {},
   "outputs": [],
   "source": [
    "def create_emb_layer(num_tokens, emb_dim=64, non_trainable=False):\n",
    "    wv = Word2Vec(poems, epochs=5, vector_size=emb_dim, sg=1, hs=1).wv\n",
    "    matrix_len = num_tokens\n",
    "    weights_matrix = np.zeros((num_tokens, emb_dim))\n",
    "    words_found = 0\n",
    "\n",
    "    for i, word in enumerate(tokens):\n",
    "        try:\n",
    "            weights_matrix[i] = wv[word]\n",
    "        except Exception:\n",
    "            weights_matrix[i] = np.random.normal(scale=0.5, size=(emb_dim, ))\n",
    "    \n",
    "    num_embeddings, embedding_dim = weights_matrix.shape\n",
    "    emb_layer = nn.Embedding(num_embeddings, embedding_dim)\n",
    "    emb_layer.load_state_dict({'weight': torch.Tensor(weights_matrix)})\n",
    "    if non_trainable:\n",
    "        emb_layer.weight.requires_grad = False\n",
    "\n",
    "    return emb_layer"
   ]
  },
  {
   "cell_type": "code",
   "execution_count": 15,
   "metadata": {},
   "outputs": [],
   "source": [
    "class WordRNN(nn.Module):\n",
    "    def __init__(self, num_tokens, emb_size=32, hidden_size=128, num_layers=1):\n",
    "        super().__init__()\n",
    "        \n",
    "        self.num_tokens = num_tokens\n",
    "        self.emb_size = emb_size\n",
    "        self.hidden_size = hidden_size\n",
    "        self.num_layers = num_layers\n",
    "        \n",
    "        self.encoder = create_emb_layer(num_tokens, emb_dim=emb_size, non_trainable=False)\n",
    "        self.rnn = nn.RNN(emb_size, hidden_size, batch_first=True, num_layers=num_layers)\n",
    "        self.decoder = nn.Linear(hidden_size, num_tokens)\n",
    "        \n",
    "    def forward(self, x, prev_hidden):\n",
    "        embed = self.encoder(x)\n",
    "        output, hidden = self.rnn(embed, prev_hidden)\n",
    "        logits = self.decoder(output)\n",
    "        return logits, hidden\n",
    "    \n",
    "    def init_hidden(self, batch_size):\n",
    "        return torch.zeros(self.num_layers, batch_size, self.hidden_size)"
   ]
  },
  {
   "cell_type": "code",
   "execution_count": 16,
   "metadata": {},
   "outputs": [],
   "source": [
    "def train_RNN(device, model, opt, criterion, num_epochs=80, plot=True):\n",
    "    model.train()\n",
    "    model = model.to(device)\n",
    "    loss_history = []\n",
    "    for epoch in range(num_epochs):\n",
    "\n",
    "        hidden = model.init_hidden(BATCH_SIZE)\n",
    "        hidden = hidden.to(device)\n",
    "\n",
    "        batches = batch_gen()\n",
    "\n",
    "        for i, (x, y) in enumerate(batches):\n",
    "            opt.zero_grad()\n",
    "    \n",
    "            x = x.to(device)\n",
    "            y = y.to(device)\n",
    "    \n",
    "            logits, hidden = model(x, hidden)\n",
    "    \n",
    "            loss = criterion(logits.view(-1, num_tokens), y.view(-1))\n",
    "            hidden = hidden.detach()\n",
    "               \n",
    "            loss.backward()\n",
    "            _ = torch.nn.utils.clip_grad_norm_(\n",
    "                model.parameters(), \n",
    "                2\n",
    "            )\n",
    "            opt.step()\n",
    "    \n",
    "            loss_history.append(loss.item())\n",
    "    \n",
    "        if plot:\n",
    "            clear_output(wait=True)\n",
    "            plt.plot(loss_history)\n",
    "            plt.show()\n",
    "        else:\n",
    "            print(f\"Epoch: {epoch}, Loss: {loss_history[-1]}\")"
   ]
  },
  {
   "cell_type": "code",
   "execution_count": 17,
   "metadata": {},
   "outputs": [],
   "source": [
    "def beautify_text(words, sep=\" \"):\n",
    "    res = \"\"\n",
    "    \n",
    "    last_is_punct = True\n",
    "    need_capitalize = True\n",
    "    for w in words[1:-1]:\n",
    "        if w in string.punctuation:\n",
    "            if last_is_punct:\n",
    "                continue\n",
    "            res += w\n",
    "            last_is_punct = True\n",
    "            if w in '.!?':\n",
    "                need_capitalize = True\n",
    "            else:\n",
    "                need_capitalize = False\n",
    "        elif w == \"\\n\":\n",
    "            res += w\n",
    "        else:\n",
    "            if need_capitalize:\n",
    "                w = w.capitalize()\n",
    "            res += sep + w\n",
    "            last_is_punct = False\n",
    "            need_capitalize = False\n",
    "    res = res.strip(\"\\n,:\")\n",
    "    if res[-1] not in (\"\\n\", \".\", \"!\", \"?\"):\n",
    "        res += \".\"\n",
    "    return res"
   ]
  },
  {
   "cell_type": "code",
   "execution_count": 18,
   "metadata": {},
   "outputs": [],
   "source": [
    "def generate_poem_RNN(device, model, num_tokens, token_idx_map, idx_token_map, words=None, top_k=None):\n",
    "    if top_k is None:\n",
    "        top_k = num_tokens\n",
    "    if words is None:\n",
    "        while True:\n",
    "            random_word = np.random.choice(list(token_idx_map))\n",
    "            if not (random_word in string.punctuation or random_word in (\"\\n\", \"<SOS>\", \"<EOS>\", \"<PAD>\")):\n",
    "                break\n",
    "        words = [\"<SOS>\"] + [random_word]\n",
    "    else:\n",
    "        words = [\"<SOS>\"] + words\n",
    "    \n",
    "    model.eval()\n",
    "    \n",
    "    hidden = model.init_hidden(batch_size=1)\n",
    "    hidden = hidden.to(device)\n",
    "    for w in words:\n",
    "        ix = torch.tensor([[token_idx_map[w]]]).to(device)\n",
    "        output, hidden = model(ix, hidden)\n",
    "    \n",
    "    _, top_ix = torch.topk(output[0], k=top_k)\n",
    "    choices = top_ix.tolist()\n",
    "    choice = np.random.choice(choices[0])\n",
    "    \n",
    "    words.append(idx_token_map[choice])\n",
    "    \n",
    "    while True:\n",
    "        ix = torch.tensor([[choice]]).to(device)\n",
    "        output, hidden = model(ix, hidden)\n",
    "        \n",
    "        logits, top_ix = torch.topk(output[0], k=top_k)\n",
    "        choices = top_ix.tolist()[0]\n",
    "        logits = logits.detach().cpu().view(-1)\n",
    "        p = F.softmax(logits, -1).numpy()\n",
    "        choice = np.random.choice(choices, p=p)\n",
    "    \n",
    "        words.append(idx_token_map[choice])\n",
    "        if idx_token_map[choice] == \"<EOS>\":\n",
    "            break\n",
    "    res = beautify_text(words)\n",
    "    print(res)"
   ]
  },
  {
   "cell_type": "code",
   "execution_count": 19,
   "metadata": {},
   "outputs": [],
   "source": [
    "device = torch.device(\"cuda\" if torch.cuda.is_available() else \"cpu\")\n",
    "rnn = WordRNN(num_tokens, emb_size=64, hidden_size=256)\n",
    "opt_rnn = torch.optim.Adam(rnn.parameters(), lr=1e-3)\n",
    "criterion_rnn = nn.CrossEntropyLoss(ignore_index=0)"
   ]
  },
  {
   "cell_type": "code",
   "execution_count": 20,
   "metadata": {},
   "outputs": [
    {
     "data": {
      "image/png": "[encoded data removed]",
      "text/plain": [
       "<Figure size 432x288 with 1 Axes>"
      ]
     },
     "metadata": {
      "needs_background": "light"
     },
     "output_type": "display_data"
    }
   ],
   "source": [
    "train_RNN(device, rnn, opt_rnn, criterion_rnn, num_epochs=70, plot=True)"
   ]
  },
  {
   "cell_type": "code",
   "execution_count": 21,
   "metadata": {},
   "outputs": [],
   "source": [
    "torch.save(rnn, \"rnn.pt\")\n",
    "del rnn\n",
    "rnn = torch.load(\"rnn.pt\")"
   ]
  },
  {
   "cell_type": "code",
   "execution_count": 22,
   "metadata": {},
   "outputs": [
    {
     "name": "stdout",
     "output_type": "stream",
     "text": [
      "Рандомное слово для инициализации, argmax вероятности для выбора следующего слова\n",
      "----------------------------------------------------------------------------------------------------\n",
      " Мысли в восторге по набережной хмурой\n",
      " парень чуть слышно, все моря,\n",
      " будто в праздник, радостью в стихах,\n",
      " полыхает плакатами и цветами.\n",
      "----------------------------------------------------------------------------------------------------\n",
      "\n",
      "\n",
      "Рандомное слово для инициализации, argmax вероятности для выбора следующего слова\n",
      "----------------------------------------------------------------------------------------------------\n",
      " Кожа. Но только ты не раз,\n",
      " ведь мы же когда нибудь слетаем\n",
      " в том, что в летнем цирке в третий раз\n",
      " с большим аттракционом выступает\n",
      " джаз лилипутов театральный джаз!\n",
      "----------------------------------------------------------------------------------------------------\n",
      "\n",
      "\n",
      "Рандомное слово для инициализации, argmax вероятности для выбора следующего слова\n",
      "----------------------------------------------------------------------------------------------------\n",
      " Дарила ль не кормили окопную вошь,\n",
      " но там, где, скажите, уже не то как,\n",
      " все равно я приду. А не нужны.\n",
      "----------------------------------------------------------------------------------------------------\n",
      "\n",
      "\n",
      "Рандомное слово для инициализации, подбрасываем монетку с вероятностями для выбора следующего слова\n",
      "----------------------------------------------------------------------------------------------------\n",
      " Сугроб красавицы, что\n",
      " за правду, как радость, в ледяной воде\n",
      " у окна в лучах сердце, город вой.\n",
      " У людей и не будьте, а я не воды.\n",
      " Никто не дорог стали тебе дни\n",
      " чуть этого не души своей,\n",
      " ведь будет все же только что давно.\n",
      "----------------------------------------------------------------------------------------------------\n",
      "\n",
      "\n",
      "Рандомное слово для инициализации, подбрасываем монетку с вероятностями для выбора следующего слова\n",
      "----------------------------------------------------------------------------------------------------\n",
      " Обиде вылезая, и всякий час\n",
      " не думали, хоть в этот сердцах сквозь костром,\n",
      " будто друг по прежнему дела.\n",
      "----------------------------------------------------------------------------------------------------\n",
      "\n",
      "\n",
      "Рандомное слово для инициализации, подбрасываем монетку с вероятностями для выбора следующего слова\n",
      "----------------------------------------------------------------------------------------------------\n",
      " Экзамене легкомыслие, как в душе красках,\n",
      " звездой отразись в реке,\n",
      " вышла он с шумом и первый бьется,\n",
      " верую он важно: знаю.\n",
      "----------------------------------------------------------------------------------------------------\n",
      "\n",
      "\n",
      "Слово 'любовь' для инициализации, argmax вероятности для выбора следующего слова\n",
      "----------------------------------------------------------------------------------------------------\n",
      " Любовь не сплошной фейерверк страстей.\n",
      " Но если там, где то, в прятки, в науке\n",
      " тащат строчки.\n",
      " А что, если суть, если все так,\n",
      " все равно я верю в душе и поддержи,\n",
      " как в детстве, что слышится тут,\n",
      " ради тебя, как ни прискорбно в день!\n",
      "----------------------------------------------------------------------------------------------------\n",
      "\n",
      "\n",
      "Слово 'любовь' для инициализации, подбрасываем монетку с вероятностями для выбора следующего слова среди топ-5 кандидатов\n",
      "----------------------------------------------------------------------------------------------------\n",
      " Любовь? Ну что же не надо ли?\n",
      " Как же в жизни, помня о желаньях,\n",
      " возможностей своих не забывать.\n",
      "----------------------------------------------------------------------------------------------------\n",
      "\n",
      "\n",
      "Слово 'любовь' для инициализации, подбрасываем монетку с вероятностями для выбора следующего слова среди топ-5 кандидатов\n",
      "----------------------------------------------------------------------------------------------------\n",
      " Любовь небес и мука человечья.\n",
      " Так что то я, кто война тот живет\n",
      " все для кого то что то,\n",
      " что навеки свое эти то.\n",
      "----------------------------------------------------------------------------------------------------\n",
      "\n",
      "\n",
      "Слово 'любовь' для инициализации, подбрасываем монетку с вероятностями для выбора следующего слова среди топ-5 кандидатов\n",
      "----------------------------------------------------------------------------------------------------\n",
      " Любовь не сплошной фейерверк страстей.\n",
      " Ну что ж, горевать не в глаз своей?\n",
      "----------------------------------------------------------------------------------------------------\n",
      "\n",
      "\n"
     ]
    }
   ],
   "source": [
    "for i in range(10):\n",
    "    if i < 3:\n",
    "        print(\"Рандомное слово для инициализации, argmax вероятности для выбора следующего слова\")\n",
    "        print(100 * \"-\")\n",
    "        generate_poem_RNN(device, rnn, num_tokens, token_idx_map, idx_token_map, top_k=1)\n",
    "    elif i < 6:\n",
    "        print(\"Рандомное слово для инициализации, подбрасываем монетку с вероятностями для выбора следующего слова\")\n",
    "        print(100 * \"-\")\n",
    "        generate_poem_RNN(device, rnn, num_tokens, token_idx_map, idx_token_map)\n",
    "    elif i == 6:\n",
    "        print(\"Слово 'любовь' для инициализации, argmax вероятности для выбора следующего слова\")\n",
    "        print(100 * \"-\")\n",
    "        generate_poem_RNN(device, rnn, num_tokens, token_idx_map, idx_token_map, words=[\"любовь\"], top_k=1)\n",
    "    else:\n",
    "        print(\"Слово 'любовь' для инициализации, подбрасываем монетку с вероятностями для выбора следующего слова среди топ-5 кандидатов\")\n",
    "        print(100 * \"-\")\n",
    "        generate_poem_RNN(device, rnn, num_tokens, token_idx_map, idx_token_map, words=[\"любовь\"], top_k=5)\n",
    "    print(100 * \"-\")\n",
    "    print(\"\\n\")"
   ]
  },
  {
   "cell_type": "code",
   "execution_count": 23,
   "metadata": {},
   "outputs": [],
   "source": [
    "class WordLSTM(nn.Module):\n",
    "    def __init__(self, num_tokens, emb_size=32, hidden_size=128, num_layers=1):\n",
    "        super().__init__()\n",
    "        \n",
    "        self.num_tokens = num_tokens\n",
    "        self.emb_size = emb_size\n",
    "        self.hidden_size = hidden_size\n",
    "        self.num_layers = num_layers\n",
    "        \n",
    "        self.encoder = create_emb_layer(num_tokens, emb_dim=emb_size, non_trainable=False)\n",
    "        self.lstm = nn.LSTM(emb_size, hidden_size, batch_first=True, num_layers=num_layers)\n",
    "        self.decoder = nn.Linear(hidden_size, num_tokens)\n",
    "        \n",
    "    def forward(self, x, prev_hidden):\n",
    "        embed = self.encoder(x)\n",
    "        output, hidden = self.lstm(embed, prev_hidden)\n",
    "        logits = self.decoder(output)\n",
    "        return logits, hidden\n",
    "    \n",
    "    def init_hidden(self, batch_size):\n",
    "        return (\n",
    "            torch.zeros(self.num_layers, batch_size, self.hidden_size),\n",
    "            torch.zeros(self.num_layers, batch_size, self.hidden_size)\n",
    "        )"
   ]
  },
  {
   "cell_type": "code",
   "execution_count": 24,
   "metadata": {},
   "outputs": [],
   "source": [
    "def train_LSTM(device, model, opt, criterion, num_epochs=80, plot=True):\n",
    "    model.train()\n",
    "    model = model.to(device)\n",
    "    loss_history = []\n",
    "    for epoch in range(num_epochs):\n",
    "\n",
    "        hidden_s, hidden_c = model.init_hidden(BATCH_SIZE)\n",
    "        hidden_s = hidden_s.to(device)\n",
    "        hidden_c = hidden_c.to(device)\n",
    "\n",
    "        batches = batch_gen()\n",
    "\n",
    "        for i, (x, y) in enumerate(batches):\n",
    "            opt.zero_grad()\n",
    "    \n",
    "            x = x.to(device)\n",
    "            y = y.to(device)\n",
    "    \n",
    "            logits, (hidden_s, hidden_c) = model(x, (hidden_s, hidden_c))\n",
    "    \n",
    "            loss = criterion(logits.view(-1, num_tokens), y.view(-1))\n",
    "            hidden_s = hidden_s.detach()\n",
    "            hidden_c = hidden_c.detach()\n",
    "               \n",
    "            loss.backward()\n",
    "            _ = torch.nn.utils.clip_grad_norm_(\n",
    "                model.parameters(), \n",
    "                2\n",
    "            )\n",
    "            opt.step()\n",
    "    \n",
    "            loss_history.append(loss.item())\n",
    "    \n",
    "        if plot:\n",
    "            clear_output(wait=True)\n",
    "            plt.plot(loss_history)\n",
    "            plt.show()\n",
    "        else:\n",
    "            print(f\"Epoch: {epoch}, Loss: {loss_history[-1]}\")"
   ]
  },
  {
   "cell_type": "code",
   "execution_count": 25,
   "metadata": {},
   "outputs": [],
   "source": [
    "lstm = WordLSTM(num_tokens, emb_size=64, hidden_size=256)\n",
    "opt_lstm = torch.optim.Adam(lstm.parameters(), lr=1e-3)\n",
    "criterion_lstm = nn.CrossEntropyLoss(ignore_index=0)"
   ]
  },
  {
   "cell_type": "code",
   "execution_count": 26,
   "metadata": {},
   "outputs": [
    {
     "data": {
      "image/png": "[encoded data removed]",
      "text/plain": [
       "<Figure size 432x288 with 1 Axes>"
      ]
     },
     "metadata": {
      "needs_background": "light"
     },
     "output_type": "display_data"
    }
   ],
   "source": [
    "train_LSTM(device, lstm, opt_lstm, criterion_lstm, num_epochs=70, plot=True)"
   ]
  },
  {
   "cell_type": "code",
   "execution_count": 27,
   "metadata": {},
   "outputs": [],
   "source": [
    "def generate_poem_LSTM(device, model, num_tokens, token_idx_map, idx_token_map, words=None, top_k=None):\n",
    "    if top_k is None:\n",
    "        top_k = num_tokens\n",
    "    if words is None:\n",
    "        while True:\n",
    "            random_word = np.random.choice(list(token_idx_map))\n",
    "            if not (random_word in string.punctuation or random_word in (\"\\n\", \"<SOS>\", \"<EOS>\", \"<PAD>\")):\n",
    "                break\n",
    "        words = [\"<SOS>\"] + [random_word]\n",
    "    else:\n",
    "        words = [\"<SOS>\"] + words\n",
    "    \n",
    "    model.eval()\n",
    "    \n",
    "    hidden_s, hidden_c = model.init_hidden(batch_size=1)\n",
    "    hidden_s = hidden_s.to(device)\n",
    "    hidden_c = hidden_c.to(device)\n",
    "    for w in words:\n",
    "        ix = torch.tensor([[token_idx_map[w]]]).to(device)\n",
    "        output, (hidden_s, hidden_c) = model(ix, (hidden_s, hidden_c))\n",
    "    \n",
    "    _, top_ix = torch.topk(output[0], k=top_k)\n",
    "    choices = top_ix.tolist()\n",
    "    choice = np.random.choice(choices[0])\n",
    "    \n",
    "    words.append(idx_token_map[choice])\n",
    "    \n",
    "    while True:\n",
    "        ix = torch.tensor([[choice]]).to(device)\n",
    "        output, (hidden_s, hidden_c) = model(ix, (hidden_s, hidden_c))\n",
    "        \n",
    "        logits, top_ix = torch.topk(output[0], k=top_k)\n",
    "        choices = top_ix.tolist()[0]\n",
    "        logits = logits.detach().cpu().view(-1)\n",
    "        p = F.softmax(logits, -1).numpy()\n",
    "        choice = np.random.choice(choices, p=p)\n",
    "    \n",
    "        words.append(idx_token_map[choice])\n",
    "        if idx_token_map[choice] == \"<EOS>\":\n",
    "            break\n",
    "    res = beautify_text(words)\n",
    "    print(res)"
   ]
  },
  {
   "cell_type": "code",
   "execution_count": 28,
   "metadata": {},
   "outputs": [
    {
     "name": "stdout",
     "output_type": "stream",
     "text": [
      "Рандомное слово для инициализации, argmax вероятности для выбора следующего слова\n",
      "----------------------------------------------------------------------------------------------------\n",
      " Позванивают в сердце, что хапают и прячут,\n",
      " что за то, что честь, то с ней,\n",
      " в то время как на миг нет,\n",
      " не спеши, не руби с плеча.\n",
      "----------------------------------------------------------------------------------------------------\n",
      "\n",
      "\n",
      "Рандомное слово для инициализации, argmax вероятности для выбора следующего слова\n",
      "----------------------------------------------------------------------------------------------------\n",
      " Барак, как рыба, ныряет нет,\n",
      " что счастье сомненья и верно,\n",
      " и в этом союзе, что с укором,\n",
      " то, в сердце ты не ты мне?\n",
      "----------------------------------------------------------------------------------------------------\n",
      "\n",
      "\n",
      "Рандомное слово для инициализации, argmax вероятности для выбора следующего слова\n",
      "----------------------------------------------------------------------------------------------------\n",
      " Лед затрещал, закачался упрямо,\n",
      " скрежет и треск прозвучал в тишине.\n",
      " И, как на раскрашенной картинке!\n",
      " Надо быть современною, дорогая!\n",
      "----------------------------------------------------------------------------------------------------\n",
      "\n",
      "\n",
      "Рандомное слово для инициализации, подбрасываем монетку с вероятностями для выбора следующего слова\n",
      "----------------------------------------------------------------------------------------------------\n",
      " Захирел папа. А он как можем:\n",
      " ведь он, ничего. Мне как в этом дело?\n",
      " Неужто он нужен его. Не слишком ли сейчас\n",
      " с моей любовью!\n",
      "----------------------------------------------------------------------------------------------------\n",
      "\n",
      "\n",
      "Рандомное слово для инициализации, подбрасываем монетку с вероятностями для выбора следующего слова\n",
      "----------------------------------------------------------------------------------------------------\n",
      " Суждениях приветственно минувших лет,\n",
      " разные и тысячи мерки\n",
      " и так так легко и для вас? Вот, вот будешь\n",
      " без злых, сто родные среди глаз.\n",
      "----------------------------------------------------------------------------------------------------\n",
      "\n",
      "\n",
      "Рандомное слово для инициализации, подбрасываем монетку с вероятностями для выбора следующего слова\n",
      "----------------------------------------------------------------------------------------------------\n",
      " Нашими принять с всеми и трава,\n",
      " возможно дочке своей,\n",
      " что как весь день победы на поверке\n",
      " хоть и от была не станем мою!\n",
      "----------------------------------------------------------------------------------------------------\n",
      "\n",
      "\n",
      "Слово 'любовь' для инициализации, argmax вероятности для выбора следующего слова\n",
      "----------------------------------------------------------------------------------------------------\n",
      " Любовь, а в сердце тревога росла,\n",
      " и все таки не главное, но таится ложь,\n",
      " и в этом не так уж и что нибудь,\n",
      " что для нас и не для вас!\n",
      "----------------------------------------------------------------------------------------------------\n",
      "\n",
      "\n",
      "Слово 'любовь' для инициализации, подбрасываем монетку с вероятностями для выбора следующего слова среди топ-5 кандидатов\n",
      "----------------------------------------------------------------------------------------------------\n",
      " Любовь то, что ты меня прощу и действуй\n",
      " в памяти вашей растаял, и снег,\n",
      " и мира не себе ни ни тоски,\n",
      " ни обольщений и ни тоски,\n",
      " мне же все, и не успел.\n",
      "----------------------------------------------------------------------------------------------------\n",
      "\n",
      "\n",
      "Слово 'любовь' для инициализации, подбрасываем монетку с вероятностями для выбора следующего слова среди топ-5 кандидатов\n",
      "----------------------------------------------------------------------------------------------------\n",
      " Любовь моя слова не знаю,\n",
      " а вот, и в шутку, что не знаю:\n",
      " ты вдруг разом все же, как жаль, а то прости,\n",
      " что выдержка, что я, что я мечтаю\n",
      " не то, и больше не пытался свой.\n",
      "----------------------------------------------------------------------------------------------------\n",
      "\n",
      "\n",
      "Слово 'любовь' для инициализации, подбрасываем монетку с вероятностями для выбора следующего слова среди топ-5 кандидатов\n",
      "----------------------------------------------------------------------------------------------------\n",
      " Любовь? Вот и вновь одна! Один!\n",
      " Я тоже участник, как мне! Сколько я,\n",
      " что мне тебе больше не понять,\n",
      " разлука от лжи не придумаешь хуже.\n",
      "----------------------------------------------------------------------------------------------------\n",
      "\n",
      "\n"
     ]
    }
   ],
   "source": [
    "for i in range(10):\n",
    "    if i < 3:\n",
    "        print(\"Рандомное слово для инициализации, argmax вероятности для выбора следующего слова\")\n",
    "        print(100 * \"-\")\n",
    "        generate_poem_LSTM(device, lstm, num_tokens, token_idx_map, idx_token_map, top_k=1)\n",
    "    elif i < 6:\n",
    "        print(\"Рандомное слово для инициализации, подбрасываем монетку с вероятностями для выбора следующего слова\")\n",
    "        print(100 * \"-\")\n",
    "        generate_poem_LSTM(device, lstm, num_tokens, token_idx_map, idx_token_map)\n",
    "    elif i == 6:\n",
    "        print(\"Слово 'любовь' для инициализации, argmax вероятности для выбора следующего слова\")\n",
    "        print(100 * \"-\")\n",
    "        generate_poem_LSTM(device, lstm, num_tokens, token_idx_map, idx_token_map, words=[\"любовь\"], top_k=1)\n",
    "    else:\n",
    "        print(\"Слово 'любовь' для инициализации, подбрасываем монетку с вероятностями для выбора следующего слова среди топ-5 кандидатов\")\n",
    "        print(100 * \"-\")\n",
    "        generate_poem_LSTM(device, lstm, num_tokens, token_idx_map, idx_token_map, words=[\"любовь\"], top_k=5)\n",
    "    print(100 * \"-\")\n",
    "    print(\"\\n\")"
   ]
  },
  {
   "cell_type": "markdown",
   "metadata": {},
   "source": [
    "Поэзия LSTM понравилась больше"
   ]
  },
  {
   "cell_type": "code",
   "execution_count": null,
   "metadata": {},
   "outputs": [],
   "source": []
  }
 ],
 "metadata": {
  "kernelspec": {
   "display_name": "Python 3",
   "language": "python",
   "name": "python3"
  },
  "language_info": {
   "codemirror_mode": {
    "name": "ipython",
    "version": 3
   },
   "file_extension": ".py",
   "mimetype": "text/x-python",
   "name": "python",
   "nbconvert_exporter": "python",
   "pygments_lexer": "ipython3",
   "version": "3.7.7"
  }
 },
 "nbformat": 4,
 "nbformat_minor": 4
}
